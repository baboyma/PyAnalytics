{
 "cells": [
  {
   "cell_type": "markdown",
   "metadata": {},
   "source": [
    "# 20 IMPORTANT STATISTICAL APPROACHES \n",
    "# Date: 2025-02-19\n",
    "# Source: https://medium.com/@sarowar.saurav10/20-advanced-statistical-approaches-every-data-scientist-should-know-ccc70ae4df28\n",
    "\n",
    "Data science is a multidisciplinary field that combines mathematics, statistics, computer science, and domain expertise to extract insights from data. \n",
    "\n",
    "Machine Learning algorithms often steal the spotlight, but it's important for all Data Scientist to have a solid foundation in statistical methods in order to be very successful. "
   ]
  },
  {
   "cell_type": "markdown",
   "metadata": {},
   "source": [
    "## 1 - Bayesian Inference"
   ]
  },
  {
   "cell_type": "markdown",
   "metadata": {},
   "source": [
    "## 2 - Maximum Likelihood Estimation (MLE)"
   ]
  },
  {
   "cell_type": "markdown",
   "metadata": {},
   "source": [
    "## 3 - Hypothesis Testing (t-test)"
   ]
  },
  {
   "cell_type": "markdown",
   "metadata": {},
   "source": [
    "## 4 - Analysis of Variance (ANOVA)"
   ]
  },
  {
   "cell_type": "markdown",
   "metadata": {},
   "source": [
    "## 5 - Principal Component Analysis (PCA)"
   ]
  },
  {
   "cell_type": "markdown",
   "metadata": {},
   "source": [
    "## 6 - Factor Analysis"
   ]
  },
  {
   "cell_type": "markdown",
   "metadata": {},
   "source": [
    "## 7 - Cluster Analysis (K-Means)"
   ]
  },
  {
   "cell_type": "markdown",
   "metadata": {},
   "source": [
    "## 8 - Bootstrapping"
   ]
  },
  {
   "cell_type": "markdown",
   "metadata": {},
   "source": [
    "## 9 - Time Series Analysis (ARIMA)"
   ]
  },
  {
   "cell_type": "markdown",
   "metadata": {},
   "source": [
    "## 10 - Survival Analysis\n",
    "Time-to-event data analysis with a focus on the probability of an event occuring after a certain time.\n",
    "\n",
    "Eg: Estimate how long a customer will remain active before cancelling a subscription."
   ]
  },
  {
   "cell_type": "markdown",
   "metadata": {},
   "source": [
    "## 11 - Multivariate Regression (Multiple Linear Regression)\n",
    "\n",
    "Model the relationship between a dependent variable and multiple independent variables.\n",
    "\n",
    "Eg: Predict house price based on square footage, number of rooms, and location."
   ]
  },
  {
   "cell_type": "markdown",
   "metadata": {},
   "source": [
    "## 12 - Ridge/Lasso Regression"
   ]
  },
  {
   "cell_type": "markdown",
   "metadata": {},
   "source": [
    "## 13 - Logistic Regression"
   ]
  },
  {
   "cell_type": "markdown",
   "metadata": {},
   "source": [
    "## 14 - Mixed Effects Models"
   ]
  },
  {
   "cell_type": "markdown",
   "metadata": {},
   "source": [
    "## 15 - Nonparametric Tests (Mann-Whitney U)"
   ]
  },
  {
   "cell_type": "markdown",
   "metadata": {},
   "source": [
    "## 16 - Monte Carlo Simulation"
   ]
  },
  {
   "cell_type": "markdown",
   "metadata": {},
   "source": [
    "## 17 - Markov Chain Monte Carlo (MCMC)"
   ]
  },
  {
   "cell_type": "markdown",
   "metadata": {},
   "source": [
    "## 18 - Rebust Regression"
   ]
  },
  {
   "cell_type": "markdown",
   "metadata": {},
   "source": [
    "## 19 - Copulas\n",
    "\n",
    "Popular in finance and used for modeling joint distributions of asset returns. It captures the dependence structure between random variables separately from their marginal distributions.\n",
    "\n",
    "Eg: Portfolio Risk: model the joint behavior of multiple stocks that exhibit non-linear dependence."
   ]
  },
  {
   "cell_type": "markdown",
   "metadata": {},
   "source": [
    "## 20 - Generalized Additive Models (GAMs)\n",
    "\n",
    "Extension of linear models that allows for non-linear functions of predictors while maintaining additivity. \n",
    "\n",
    "Eg: Health Data: modeling a patient outcome as a smooth non-linear function of age and other variables."
   ]
  }
 ],
 "metadata": {
  "language_info": {
   "name": "python"
  }
 },
 "nbformat": 4,
 "nbformat_minor": 2
}
