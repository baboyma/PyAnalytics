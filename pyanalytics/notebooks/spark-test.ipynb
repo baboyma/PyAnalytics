{
 "cells": [
  {
   "cell_type": "code",
   "execution_count": 1,
   "id": "7437ad41-2307-44fc-a028-cf70f00da1be",
   "metadata": {},
   "outputs": [],
   "source": [
    "# Load key libraries / functions\n",
    "from pyspark.sql import SparkSession\n",
    "from pyspark.sql.functions import *\n",
    "from pyspark.sql.types import *\n",
    "\n",
    "from pyspark.ml.feature import VectorAssembler\n",
    "from pyspark.ml.feature import StandardScaler\n",
    "\n",
    "from pyspark.ml.clustering import KMeans\n",
    "from pyspark.ml.evaluation import ClusteringEvaluator\n",
    "\n",
    "import pandas as pd\n",
    "import numpy as np\n",
    "import matplotlib.pyplot as plt\n",
    "import seaborn as sns\n",
    "\n",
    "import urllib.request\n",
    "import os"
   ]
  },
  {
   "cell_type": "code",
   "execution_count": 2,
   "id": "28e3bd66",
   "metadata": {},
   "outputs": [
    {
     "name": "stderr",
     "output_type": "stream",
     "text": [
      "25/02/16 12:50:18 WARN Utils: Your hostname, Baboymas-MacBook-Pro.local resolves to a loopback address: 127.0.0.1; using 192.168.0.134 instead (on interface en0)\n",
      "25/02/16 12:50:18 WARN Utils: Set SPARK_LOCAL_IP if you need to bind to another address\n",
      "Setting default log level to \"WARN\".\n",
      "To adjust logging level use sc.setLogLevel(newLevel). For SparkR, use setLogLevel(newLevel).\n",
      "25/02/16 12:50:19 WARN NativeCodeLoader: Unable to load native-hadoop library for your platform... using builtin-java classes where applicable\n"
     ]
    },
    {
     "name": "stdout",
     "output_type": "stream",
     "text": [
      "3.5.4\n"
     ]
    }
   ],
   "source": [
    "# Start a Spark Session\n",
    "spark = (\n",
    "    SparkSession.builder \\\n",
    "        .appName(\"PySPARK - DataCamp Tutorial\") \\\n",
    "        .config(\"spark.memory.offHeap.enabled\", \"true\") \\\n",
    "        .config(\"spark.memory.offHeap.size\", \"10g\") \\\n",
    "        .getOrCreate()\n",
    ")\n",
    "#spark = SparkSession.builder.getOrCreate()\n",
    "print(spark.version)"
   ]
  },
  {
   "cell_type": "code",
   "execution_count": 3,
   "id": "b6aadd82",
   "metadata": {},
   "outputs": [
    {
     "name": "stderr",
     "output_type": "stream",
     "text": [
      "25/02/16 12:50:31 WARN GarbageCollectionMetrics: To enable non-built-in garbage collector(s) List(G1 Concurrent GC), users should configure it(them) to spark.eventLog.gcMetrics.youngGenerationGarbageCollectors or spark.eventLog.gcMetrics.oldGenerationGarbageCollectors\n"
     ]
    }
   ],
   "source": [
    "# Load e-commerce data from DataCamp github as DataFrame\n",
    "url_ecom = \"https://raw.githubusercontent.com/brl0/datacamp_courses/refs/heads/master/datacamp_courses.csv\"\n",
    "file_ecom = \"../../data/online_retail.csv\"\n",
    "#file_ecom = \"../../data/datacamp_courses.csv\"\n",
    "\n",
    "# Download the file if it does not exist\n",
    "if not os.path.exists(file_ecom):\n",
    "\tos.makedirs(os.path.dirname(file_ecom), exist_ok=True)\n",
    "\turllib.request.urlretrieve(url_ecom, file_ecom)\n",
    "\n",
    "df = spark.read.option(\"header\", \"true\").option(\"escape\", \"\\\"\").csv(file_ecom)"
   ]
  },
  {
   "cell_type": "code",
   "execution_count": 4,
   "id": "615fc6d4",
   "metadata": {},
   "outputs": [
    {
     "name": "stdout",
     "output_type": "stream",
     "text": [
      "root\n",
      " |-- InvoiceNo: string (nullable = true)\n",
      " |-- StockCode: string (nullable = true)\n",
      " |-- Description: string (nullable = true)\n",
      " |-- Quantity: string (nullable = true)\n",
      " |-- InvoiceDate: string (nullable = true)\n",
      " |-- UnitPrice: string (nullable = true)\n",
      " |-- CustomerID: string (nullable = true)\n",
      " |-- Country: string (nullable = true)\n",
      "\n"
     ]
    }
   ],
   "source": [
    "# Show schema\n",
    "df.printSchema()"
   ]
  },
  {
   "cell_type": "code",
   "execution_count": 5,
   "id": "6e9aca2e",
   "metadata": {},
   "outputs": [
    {
     "name": "stdout",
     "output_type": "stream",
     "text": [
      "+---------+---------+-----------------------------------+--------+------------+---------+----------+--------------+\n",
      "|InvoiceNo|StockCode|Description                        |Quantity|InvoiceDate |UnitPrice|CustomerID|Country       |\n",
      "+---------+---------+-----------------------------------+--------+------------+---------+----------+--------------+\n",
      "|536365   |85123A   |WHITE HANGING HEART T-LIGHT HOLDER |6       |12/1/10 8:26|2.55     |17850     |United Kingdom|\n",
      "|536365   |71053    |WHITE METAL LANTERN                |6       |12/1/10 8:26|3.39     |17850     |United Kingdom|\n",
      "|536365   |84406B   |CREAM CUPID HEARTS COAT HANGER     |8       |12/1/10 8:26|2.75     |17850     |United Kingdom|\n",
      "|536365   |84029G   |KNITTED UNION FLAG HOT WATER BOTTLE|6       |12/1/10 8:26|3.39     |17850     |United Kingdom|\n",
      "|536365   |84029E   |RED WOOLLY HOTTIE WHITE HEART.     |6       |12/1/10 8:26|3.39     |17850     |United Kingdom|\n",
      "+---------+---------+-----------------------------------+--------+------------+---------+----------+--------------+\n",
      "only showing top 5 rows\n",
      "\n"
     ]
    }
   ],
   "source": [
    "# Export dataframe\n",
    "df.show(5, 0)"
   ]
  },
  {
   "cell_type": "markdown",
   "id": "b185fe5d",
   "metadata": {},
   "source": [
    "## Data Exploratory"
   ]
  },
  {
   "cell_type": "code",
   "execution_count": 6,
   "id": "405e456a",
   "metadata": {},
   "outputs": [
    {
     "data": {
      "text/plain": [
       "541909"
      ]
     },
     "execution_count": 6,
     "metadata": {},
     "output_type": "execute_result"
    }
   ],
   "source": [
    "# Count number of rows\n",
    "df.count()"
   ]
  },
  {
   "cell_type": "code",
   "execution_count": 7,
   "id": "3056e712",
   "metadata": {},
   "outputs": [
    {
     "name": "stderr",
     "output_type": "stream",
     "text": [
      "                                                                                \r"
     ]
    },
    {
     "data": {
      "text/plain": [
       "4373"
      ]
     },
     "execution_count": 7,
     "metadata": {},
     "output_type": "execute_result"
    }
   ],
   "source": [
    "# Number of customers\n",
    "df.select('CustomerID').distinct().count()"
   ]
  },
  {
   "cell_type": "code",
   "execution_count": 9,
   "id": "38449eba",
   "metadata": {},
   "outputs": [
    {
     "data": {
      "text/plain": [
       "1"
      ]
     },
     "execution_count": 9,
     "metadata": {},
     "output_type": "execute_result"
    }
   ],
   "source": [
    "df.where(col('CustomerID').isNull()).select('CustomerID').distinct().count()"
   ]
  },
  {
   "cell_type": "code",
   "execution_count": 10,
   "id": "e734e27f",
   "metadata": {},
   "outputs": [],
   "source": [
    "df = df.where(col('CustomerID').isNotNull())"
   ]
  },
  {
   "cell_type": "code",
   "execution_count": 11,
   "id": "ce7a4be7",
   "metadata": {},
   "outputs": [
    {
     "name": "stderr",
     "output_type": "stream",
     "text": [
      "[Stage 20:=======>                                                  (1 + 7) / 8]\r"
     ]
    },
    {
     "name": "stdout",
     "output_type": "stream",
     "text": [
      "+--------------+------+\n",
      "|       Country|CCount|\n",
      "+--------------+------+\n",
      "|United Kingdom|  3950|\n",
      "|       Germany|    95|\n",
      "|        France|    87|\n",
      "|         Spain|    31|\n",
      "|       Belgium|    25|\n",
      "+--------------+------+\n",
      "only showing top 5 rows\n",
      "\n"
     ]
    },
    {
     "name": "stderr",
     "output_type": "stream",
     "text": [
      "                                                                                \r"
     ]
    }
   ],
   "source": [
    "# Number of customers by country\n",
    "df.groupBy('Country').agg(countDistinct('CustomerID').alias('CCount')).orderBy(desc('CCount')).show(5)"
   ]
  },
  {
   "cell_type": "code",
   "execution_count": 13,
   "id": "8b889667",
   "metadata": {},
   "outputs": [
    {
     "name": "stdout",
     "output_type": "stream",
     "text": [
      "+--------------+\n",
      "|   InvoiceDate|\n",
      "+--------------+\n",
      "| 12/2/10 16:45|\n",
      "|  12/7/10 9:57|\n",
      "| 12/9/10 14:30|\n",
      "|12/12/10 11:37|\n",
      "|12/14/10 12:17|\n",
      "+--------------+\n",
      "only showing top 5 rows\n",
      "\n"
     ]
    }
   ],
   "source": [
    "df.select('InvoiceDate').distinct().show(5)"
   ]
  },
  {
   "cell_type": "code",
   "execution_count": 14,
   "id": "39995b91",
   "metadata": {},
   "outputs": [
    {
     "name": "stdout",
     "output_type": "stream",
     "text": [
      "+---------+---------+-----------------------------------+--------+------------+---------+----------+--------------+-------------------+\n",
      "|InvoiceNo|StockCode|Description                        |Quantity|InvoiceDate |UnitPrice|CustomerID|Country       |date               |\n",
      "+---------+---------+-----------------------------------+--------+------------+---------+----------+--------------+-------------------+\n",
      "|536365   |85123A   |WHITE HANGING HEART T-LIGHT HOLDER |6       |12/1/10 8:26|2.55     |17850     |United Kingdom|0012-01-10 08:26:00|\n",
      "|536365   |71053    |WHITE METAL LANTERN                |6       |12/1/10 8:26|3.39     |17850     |United Kingdom|0012-01-10 08:26:00|\n",
      "|536365   |84406B   |CREAM CUPID HEARTS COAT HANGER     |8       |12/1/10 8:26|2.75     |17850     |United Kingdom|0012-01-10 08:26:00|\n",
      "|536365   |84029G   |KNITTED UNION FLAG HOT WATER BOTTLE|6       |12/1/10 8:26|3.39     |17850     |United Kingdom|0012-01-10 08:26:00|\n",
      "|536365   |84029E   |RED WOOLLY HOTTIE WHITE HEART.     |6       |12/1/10 8:26|3.39     |17850     |United Kingdom|0012-01-10 08:26:00|\n",
      "+---------+---------+-----------------------------------+--------+------------+---------+----------+--------------+-------------------+\n",
      "only showing top 5 rows\n",
      "\n"
     ]
    },
    {
     "name": "stderr",
     "output_type": "stream",
     "text": [
      "                                                                                \r"
     ]
    },
    {
     "name": "stdout",
     "output_type": "stream",
     "text": [
      "+-------------------+\n",
      "|          min(date)|\n",
      "+-------------------+\n",
      "|0001-04-11 10:00:00|\n",
      "+-------------------+\n",
      "\n"
     ]
    },
    {
     "name": "stderr",
     "output_type": "stream",
     "text": [
      "[Stage 36:=======>                                                  (1 + 7) / 8]\r"
     ]
    },
    {
     "name": "stdout",
     "output_type": "stream",
     "text": [
      "+-------------------+\n",
      "|          max(date)|\n",
      "+-------------------+\n",
      "|0012-12-10 16:20:00|\n",
      "+-------------------+\n",
      "\n"
     ]
    },
    {
     "name": "stderr",
     "output_type": "stream",
     "text": [
      "                                                                                \r"
     ]
    }
   ],
   "source": [
    "# Get the latest purchase\n",
    "\n",
    "## reset time parser to legacy\n",
    "spark.sql(\"set spark.sql.legacy.timeParserPolicy=LEGACY\")\n",
    "\n",
    "## Add column date based on invoice date\n",
    "df = df.where(col('InvoiceDate').isNotNull()).withColumn('date', to_timestamp('InvoiceDate', 'yyyy/MM/dd HH:mm'))\n",
    "\n",
    "df.show(5, 0)\n",
    "df.select(min('date')).show()\n",
    "df.select(max('date')).show()"
   ]
  },
  {
   "cell_type": "markdown",
   "id": "95d043bd",
   "metadata": {},
   "source": [
    "# Pre-processing"
   ]
  },
  {
   "cell_type": "code",
   "execution_count": 15,
   "id": "a08c1d78",
   "metadata": {},
   "outputs": [
    {
     "name": "stdout",
     "output_type": "stream",
     "text": [
      "root\n",
      " |-- InvoiceNo: string (nullable = true)\n",
      " |-- StockCode: string (nullable = true)\n",
      " |-- Description: string (nullable = true)\n",
      " |-- Quantity: string (nullable = true)\n",
      " |-- InvoiceDate: string (nullable = true)\n",
      " |-- UnitPrice: string (nullable = true)\n",
      " |-- CustomerID: string (nullable = true)\n",
      " |-- Country: string (nullable = true)\n",
      " |-- date: timestamp (nullable = true)\n",
      "\n"
     ]
    }
   ],
   "source": [
    "# Schema\n",
    "df.printSchema()"
   ]
  },
  {
   "cell_type": "markdown",
   "id": "10a1a147",
   "metadata": {},
   "source": [
    "# Costumer Segmentation\n",
    "## RFM (Recency, Frequency, Monetary)"
   ]
  },
  {
   "cell_type": "code",
   "execution_count": 16,
   "id": "4ed375b4",
   "metadata": {},
   "outputs": [],
   "source": [
    "# Recency\n",
    "df = df.withColumn('from_date', lit('12/1/10 08:26'))\n",
    "df = df.withColumn('from_date', to_timestamp('from_date', 'yy/MM/dd H:mm'))\n",
    "\n",
    "df2 = df.withColumn('from_date', to_timestamp(col('from_date'))).withColumn('recency', col('date').cast('long') - col('from_date').cast('long'))\n"
   ]
  },
  {
   "cell_type": "code",
   "execution_count": 17,
   "id": "6507ad8a",
   "metadata": {},
   "outputs": [
    {
     "name": "stdout",
     "output_type": "stream",
     "text": [
      "+---------+---------+-----------------------------------+--------+------------+---------+----------+--------------+-------------------+-------------------+------------+\n",
      "|InvoiceNo|StockCode|Description                        |Quantity|InvoiceDate |UnitPrice|CustomerID|Country       |date               |from_date          |recency     |\n",
      "+---------+---------+-----------------------------------+--------+------------+---------+----------+--------------+-------------------+-------------------+------------+\n",
      "|536365   |85123A   |WHITE HANGING HEART T-LIGHT HOLDER |6       |12/1/10 8:26|2.55     |17850     |United Kingdom|0012-01-10 08:26:00|2012-01-10 08:26:00|-63113904238|\n",
      "|536365   |71053    |WHITE METAL LANTERN                |6       |12/1/10 8:26|3.39     |17850     |United Kingdom|0012-01-10 08:26:00|2012-01-10 08:26:00|-63113904238|\n",
      "|536365   |84406B   |CREAM CUPID HEARTS COAT HANGER     |8       |12/1/10 8:26|2.75     |17850     |United Kingdom|0012-01-10 08:26:00|2012-01-10 08:26:00|-63113904238|\n",
      "|536365   |84029G   |KNITTED UNION FLAG HOT WATER BOTTLE|6       |12/1/10 8:26|3.39     |17850     |United Kingdom|0012-01-10 08:26:00|2012-01-10 08:26:00|-63113904238|\n",
      "|536365   |84029E   |RED WOOLLY HOTTIE WHITE HEART.     |6       |12/1/10 8:26|3.39     |17850     |United Kingdom|0012-01-10 08:26:00|2012-01-10 08:26:00|-63113904238|\n",
      "|536365   |22752    |SET 7 BABUSHKA NESTING BOXES       |2       |12/1/10 8:26|7.65     |17850     |United Kingdom|0012-01-10 08:26:00|2012-01-10 08:26:00|-63113904238|\n",
      "|536365   |21730    |GLASS STAR FROSTED T-LIGHT HOLDER  |6       |12/1/10 8:26|4.25     |17850     |United Kingdom|0012-01-10 08:26:00|2012-01-10 08:26:00|-63113904238|\n",
      "|536366   |22633    |HAND WARMER UNION JACK             |6       |12/1/10 8:28|1.85     |17850     |United Kingdom|0012-01-10 08:28:00|2012-01-10 08:26:00|-63113904118|\n",
      "|536366   |22632    |HAND WARMER RED POLKA DOT          |6       |12/1/10 8:28|1.85     |17850     |United Kingdom|0012-01-10 08:28:00|2012-01-10 08:26:00|-63113904118|\n",
      "|536367   |84879    |ASSORTED COLOUR BIRD ORNAMENT      |32      |12/1/10 8:34|1.69     |13047     |United Kingdom|0012-01-10 08:34:00|2012-01-10 08:26:00|-63113903758|\n",
      "+---------+---------+-----------------------------------+--------+------------+---------+----------+--------------+-------------------+-------------------+------------+\n",
      "only showing top 10 rows\n",
      "\n"
     ]
    }
   ],
   "source": [
    "df2.show(10, 0)"
   ]
  },
  {
   "cell_type": "code",
   "execution_count": 18,
   "id": "0519b3ef",
   "metadata": {},
   "outputs": [
    {
     "name": "stderr",
     "output_type": "stream",
     "text": [
      "                                                                                \r"
     ]
    },
    {
     "name": "stdout",
     "output_type": "stream",
     "text": [
      "+------------+---------+---------+----------------------------------+--------+------------+---------+----------+--------------+-------------------+-------------------+\n",
      "|recency     |InvoiceNo|StockCode|Description                       |Quantity|InvoiceDate |UnitPrice|CustomerID|Country       |date               |from_date          |\n",
      "+------------+---------+---------+----------------------------------+--------+------------+---------+----------+--------------+-------------------+-------------------+\n",
      "|-63113903698|536369   |21756    |BATH BUILDING BLOCK WORD          |3       |12/1/10 8:35|5.95     |13047     |United Kingdom|0012-01-10 08:35:00|2012-01-10 08:26:00|\n",
      "|-63113902198|536371   |22086    |PAPER CHAIN KIT 50'S CHRISTMAS    |80      |12/1/10 9:00|2.55     |13748     |United Kingdom|0012-01-10 09:00:00|2012-01-10 08:26:00|\n",
      "|-63113900278|536375   |85123A   |WHITE HANGING HEART T-LIGHT HOLDER|6       |12/1/10 9:32|2.55     |17850     |United Kingdom|0012-01-10 09:32:00|2012-01-10 08:26:00|\n",
      "|-63113900278|536375   |71053    |WHITE METAL LANTERN               |6       |12/1/10 9:32|3.39     |17850     |United Kingdom|0012-01-10 09:32:00|2012-01-10 08:26:00|\n",
      "|-63113900278|536375   |84406B   |CREAM CUPID HEARTS COAT HANGER    |8       |12/1/10 9:32|2.75     |17850     |United Kingdom|0012-01-10 09:32:00|2012-01-10 08:26:00|\n",
      "+------------+---------+---------+----------------------------------+--------+------------+---------+----------+--------------+-------------------+-------------------+\n",
      "only showing top 5 rows\n",
      "\n"
     ]
    }
   ],
   "source": [
    "# Last purchases for each customer\n",
    "df2 = df2.join(df2.groupBy('CustomerID').agg(max('recency').alias('recency')), on='recency', how='leftsemi')\n",
    "\n",
    "df2.show(5, 0)"
   ]
  },
  {
   "cell_type": "code",
   "execution_count": 19,
   "id": "00c8ade6",
   "metadata": {},
   "outputs": [
    {
     "name": "stdout",
     "output_type": "stream",
     "text": [
      "root\n",
      " |-- recency: long (nullable = true)\n",
      " |-- InvoiceNo: string (nullable = true)\n",
      " |-- StockCode: string (nullable = true)\n",
      " |-- Description: string (nullable = true)\n",
      " |-- Quantity: string (nullable = true)\n",
      " |-- InvoiceDate: string (nullable = true)\n",
      " |-- UnitPrice: string (nullable = true)\n",
      " |-- CustomerID: string (nullable = true)\n",
      " |-- Country: string (nullable = true)\n",
      " |-- date: timestamp (nullable = true)\n",
      " |-- from_date: timestamp (nullable = true)\n",
      "\n"
     ]
    }
   ],
   "source": [
    "df2.printSchema()"
   ]
  },
  {
   "cell_type": "code",
   "execution_count": 20,
   "id": "b186d8bd",
   "metadata": {},
   "outputs": [
    {
     "name": "stderr",
     "output_type": "stream",
     "text": [
      "[Stage 47:=======>                                                  (1 + 7) / 8]\r"
     ]
    },
    {
     "name": "stdout",
     "output_type": "stream",
     "text": [
      "+----------+---------+\n",
      "|CustomerID|frequency|\n",
      "+----------+---------+\n",
      "|14096     |530      |\n",
      "|14730     |314      |\n",
      "|17841     |277      |\n",
      "|14535     |238      |\n",
      "|12378     |219      |\n",
      "|14911     |210      |\n",
      "|14456     |203      |\n",
      "|18022     |191      |\n",
      "|13521     |183      |\n",
      "|13174     |169      |\n",
      "+----------+---------+\n",
      "only showing top 10 rows\n",
      "\n"
     ]
    },
    {
     "name": "stderr",
     "output_type": "stream",
     "text": [
      "                                                                                \r"
     ]
    }
   ],
   "source": [
    "# Purchase Frequency\n",
    "df_freq = df2.groupBy('CustomerID').agg(count('InvoiceDate').alias('frequency')).orderBy(desc('frequency'))\n",
    "\n",
    "df_freq.show(10, 0)"
   ]
  },
  {
   "cell_type": "code",
   "execution_count": 21,
   "id": "76160ddd",
   "metadata": {},
   "outputs": [
    {
     "name": "stdout",
     "output_type": "stream",
     "text": [
      "root\n",
      " |-- CustomerID: string (nullable = true)\n",
      " |-- recency: long (nullable = true)\n",
      " |-- InvoiceNo: string (nullable = true)\n",
      " |-- StockCode: string (nullable = true)\n",
      " |-- Description: string (nullable = true)\n",
      " |-- Quantity: string (nullable = true)\n",
      " |-- InvoiceDate: string (nullable = true)\n",
      " |-- UnitPrice: string (nullable = true)\n",
      " |-- Country: string (nullable = true)\n",
      " |-- date: timestamp (nullable = true)\n",
      " |-- from_date: timestamp (nullable = true)\n",
      " |-- frequency: long (nullable = false)\n",
      "\n"
     ]
    }
   ],
   "source": [
    "df3 = df2.join(df_freq, on = 'CustomerID', how = 'inner')\n",
    "\n",
    "df3.printSchema()"
   ]
  },
  {
   "cell_type": "code",
   "execution_count": 25,
   "id": "c2c095f2",
   "metadata": {},
   "outputs": [
    {
     "name": "stderr",
     "output_type": "stream",
     "text": [
      "[Stage 72:=======>                                                  (1 + 7) / 8]\r"
     ]
    },
    {
     "name": "stdout",
     "output_type": "stream",
     "text": [
      "+----------+------------------+\n",
      "|CustomerID|       TotalAmount|\n",
      "+----------+------------------+\n",
      "|     15749|            4522.5|\n",
      "|     15195|            3861.0|\n",
      "|     12755|3794.3999999999996|\n",
      "|     15749|3314.9999999999995|\n",
      "|     16210|            3254.4|\n",
      "+----------+------------------+\n",
      "only showing top 5 rows\n",
      "\n"
     ]
    },
    {
     "name": "stderr",
     "output_type": "stream",
     "text": [
      "                                                                                \r"
     ]
    }
   ],
   "source": [
    "# Monetory Value\n",
    "m_val = df3.withColumn('TotalAmount', col('Quantity') * col('UnitPrice'))\n",
    "\n",
    "m_val.select('CustomerID', 'TotalAmount').orderBy(desc('TotalAmount')).show(5)"
   ]
  },
  {
   "cell_type": "code",
   "execution_count": 26,
   "id": "6902f887",
   "metadata": {},
   "outputs": [
    {
     "name": "stderr",
     "output_type": "stream",
     "text": [
      "[Stage 79:=======>                                                  (1 + 7) / 8]\r"
     ]
    },
    {
     "name": "stdout",
     "output_type": "stream",
     "text": [
      "+----------+-----------------+\n",
      "|CustomerID|monetary_value   |\n",
      "+----------+-----------------+\n",
      "|14646     |8361.8           |\n",
      "|15749     |7837.5           |\n",
      "|14096     |7835.540000000014|\n",
      "|12357     |6207.669999999996|\n",
      "|12409     |6207.079999999999|\n",
      "+----------+-----------------+\n",
      "only showing top 5 rows\n",
      "\n"
     ]
    },
    {
     "name": "stderr",
     "output_type": "stream",
     "text": [
      "                                                                                \r"
     ]
    }
   ],
   "source": [
    "m_val = m_val.groupBy('CustomerID').agg(sum('TotalAmount').alias('monetary_value'))\n",
    "\n",
    "m_val.orderBy(desc('monetary_value')).show(5, 0)"
   ]
  },
  {
   "cell_type": "code",
   "execution_count": 27,
   "id": "da42c20d",
   "metadata": {},
   "outputs": [
    {
     "name": "stderr",
     "output_type": "stream",
     "text": [
      "                                                                                \r"
     ]
    },
    {
     "name": "stdout",
     "output_type": "stream",
     "text": [
      "+----------+------------+---------+------------------+\n",
      "|CustomerID|recency     |frequency|monetary_value    |\n",
      "+----------+------------+---------+------------------+\n",
      "|16250     |-63113898658|14       |226.14            |\n",
      "|15574     |-63111199438|121      |375.65            |\n",
      "|15271     |-63092803378|24       |111.75            |\n",
      "|15555     |-63092792218|37       |620.3499999999998 |\n",
      "|17757     |-63090201238|49       |385.25            |\n",
      "|13187     |-63447802378|37       |236.01999999999995|\n",
      "|13107     |-63437284918|21       |566.8400000000001 |\n",
      "|16303     |-63437278438|35       |827.1799999999998 |\n",
      "|13174     |-63103421158|169      |1415.9700000000003|\n",
      "|17128     |-63439878478|14       |157.09            |\n",
      "+----------+------------+---------+------------------+\n",
      "only showing top 10 rows\n",
      "\n"
     ]
    }
   ],
   "source": [
    "df_final = m_val.join(df3, on = 'CustomerID', how = 'inner')\n",
    "df_final = df_final.select(['CustomerID', 'recency', 'frequency', 'monetary_value']).distinct()\n",
    "df_final.show(10, 0)"
   ]
  },
  {
   "cell_type": "markdown",
   "id": "6dd2a999",
   "metadata": {},
   "source": [
    "## Customer Segmentation"
   ]
  },
  {
   "cell_type": "code",
   "execution_count": null,
   "id": "66975aaa",
   "metadata": {},
   "outputs": [],
   "source": [
    "# Standardization"
   ]
  },
  {
   "cell_type": "code",
   "execution_count": 28,
   "id": "93fce332",
   "metadata": {},
   "outputs": [],
   "source": [
    "assemble = VectorAssembler(\n",
    "    inputCols=[\n",
    "    'recency','frequency','monetary_value'\n",
    "    ],\n",
    "    outputCol='features'\n",
    ")\n",
    "\n",
    "assembled_data = assemble.transform(df_final)"
   ]
  },
  {
   "cell_type": "code",
   "execution_count": 29,
   "id": "96f44877",
   "metadata": {},
   "outputs": [
    {
     "name": "stderr",
     "output_type": "stream",
     "text": [
      "                                                                                \r"
     ]
    }
   ],
   "source": [
    "scale = StandardScaler(inputCol='features',outputCol='standardized')\n",
    "data_scale = scale.fit(assembled_data)\n",
    "data_scale_output = data_scale.transform(assembled_data)"
   ]
  },
  {
   "cell_type": "code",
   "execution_count": 30,
   "id": "3a982f23",
   "metadata": {},
   "outputs": [
    {
     "name": "stderr",
     "output_type": "stream",
     "text": [
      "                                                                                \r"
     ]
    },
    {
     "name": "stdout",
     "output_type": "stream",
     "text": [
      "+------------------------------------------------------------+\n",
      "|standardized                                                |\n",
      "+------------------------------------------------------------+\n",
      "|[-629.1525130203162,0.45890203194255746,0.07645669520731259]|\n",
      "|[-629.125605776709,3.9662247046463897,0.12700520719300865]  |\n",
      "+------------------------------------------------------------+\n",
      "only showing top 2 rows\n",
      "\n"
     ]
    }
   ],
   "source": [
    "data_scale_output.select('standardized').show(2,truncate=False)"
   ]
  },
  {
   "cell_type": "code",
   "execution_count": 31,
   "id": "6fa60e43",
   "metadata": {},
   "outputs": [
    {
     "name": "stderr",
     "output_type": "stream",
     "text": [
      "25/02/16 12:55:01 WARN InstanceBuilder: Failed to load implementation from:dev.ludovic.netlib.blas.JNIBLAS\n",
      "25/02/16 12:55:01 WARN InstanceBuilder: Failed to load implementation from:dev.ludovic.netlib.blas.VectorBLAS\n",
      "                                                                                \r"
     ]
    }
   ],
   "source": [
    "# ML Model - K-Means\n",
    "## Number of clusters: use of elbow-method\n",
    "\n",
    "max_k = 6\n",
    "\n",
    "cost = np.zeros(max_k)\n",
    "\n",
    "evaluator = ClusteringEvaluator(\n",
    "    predictionCol='prediction',\n",
    "    featuresCol='standardized',\n",
    "    metricName='silhouette',\n",
    "    distanceMeasure='squaredEuclidean'\n",
    ")\n",
    "\n",
    "for i in range(2, max_k):\n",
    "    KMeans_algo = KMeans(featuresCol='standardized', k=i)\n",
    "    KMeans_fit = KMeans_algo.fit(data_scale_output)\n",
    "    output = KMeans_fit.transform(data_scale_output)\n",
    "    cost[i] = KMeans_fit.summary.trainingCost"
   ]
  },
  {
   "cell_type": "code",
   "execution_count": 32,
   "id": "401f6abd",
   "metadata": {},
   "outputs": [
    {
     "data": {
      "image/png": "[encoded data removed]",
      "text/plain": [
       "<Figure size 640x480 with 1 Axes>"
      ]
     },
     "metadata": {},
     "output_type": "display_data"
    }
   ],
   "source": [
    "df_cost = pd.DataFrame(cost[2:])\n",
    "df_cost.columns = [\"cost\"]\n",
    "new_col = range(2, max_k)\n",
    "df_cost.insert(0, 'cluster', new_col)\n",
    "plt.plot(df_cost.cluster, df_cost.cost)\n",
    "plt.xlabel('Number of Clusters')\n",
    "plt.ylabel('Score')\n",
    "plt.title('Elbow Curve')\n",
    "plt.show()"
   ]
  },
  {
   "cell_type": "code",
   "execution_count": 33,
   "id": "5cf12f80",
   "metadata": {},
   "outputs": [
    {
     "name": "stderr",
     "output_type": "stream",
     "text": [
      "                                                                                \r"
     ]
    }
   ],
   "source": [
    "# K-Means Clustering Model\n",
    "KMeans_algo = KMeans(featuresCol='standardized', k=4)\n",
    "KMeans_fit = KMeans_algo.fit(data_scale_output)"
   ]
  },
  {
   "cell_type": "code",
   "execution_count": 34,
   "id": "ef8e5934",
   "metadata": {},
   "outputs": [
    {
     "name": "stderr",
     "output_type": "stream",
     "text": [
      "                                                                                \r"
     ]
    },
    {
     "name": "stdout",
     "output_type": "stream",
     "text": [
      "+----------+------------+---------+-----------------+-----------------------------------------+------------------------------------------------------------+----------+\n",
      "|CustomerID|recency     |frequency|monetary_value   |features                                 |standardized                                                |prediction|\n",
      "+----------+------------+---------+-----------------+-----------------------------------------+------------------------------------------------------------+----------+\n",
      "|16250     |-63113898658|14       |226.14           |[-6.3113898658E10,14.0,226.14]           |[-629.1525130203162,0.45890203194255746,0.07645669520731259]|0         |\n",
      "|15574     |-63111199438|121      |375.65           |[-6.3111199438E10,121.0,375.65]          |[-629.125605776709,3.9662247046463897,0.12700520719300865]  |3         |\n",
      "|15271     |-63092803378|24       |111.75           |[-6.3092803378E10,24.0,111.75]           |[-628.9422241820877,0.7866891976158128,0.03778206283460327] |0         |\n",
      "|15555     |-63092792218|37       |620.3499999999998|[-6.3092792218E10,37.0,620.3499999999998]|[-628.9421129333422,1.2128125129910448,0.2097369367288244]  |0         |\n",
      "|17757     |-63090201238|49       |385.25           |[-6.3090201238E10,49.0,385.25]           |[-628.9162846829433,1.606157111798951,0.1302509146043034]   |0         |\n",
      "+----------+------------+---------+-----------------+-----------------------------------------+------------------------------------------------------------+----------+\n",
      "only showing top 5 rows\n",
      "\n"
     ]
    }
   ],
   "source": [
    "# Predictions\n",
    "preds=KMeans_fit.transform(data_scale_output)\n",
    "preds.show(5,0)"
   ]
  },
  {
   "cell_type": "code",
   "execution_count": 35,
   "id": "5d9db958",
   "metadata": {},
   "outputs": [
    {
     "name": "stderr",
     "output_type": "stream",
     "text": [
      "                                                                                \r"
     ]
    },
    {
     "data": {
      "image/png": "[encoded data removed]",
      "text/plain": [
       "<Figure size 640x480 with 1 Axes>"
      ]
     },
     "metadata": {},
     "output_type": "display_data"
    },
    {
     "data": {
      "image/png": "[encoded data removed]",
      "text/plain": [
       "<Figure size 640x480 with 1 Axes>"
      ]
     },
     "metadata": {},
     "output_type": "display_data"
    },
    {
     "data": {
      "image/png": "[encoded data removed]",
      "text/plain": [
       "<Figure size 640x480 with 1 Axes>"
      ]
     },
     "metadata": {},
     "output_type": "display_data"
    }
   ],
   "source": [
    "# Cluster Analysis\n",
    "df_viz = preds.select('recency','frequency','monetary_value','prediction')\n",
    "df_viz = df_viz.toPandas()\n",
    "avg_df = df_viz.groupby(['prediction'], as_index=False).mean()\n",
    "\n",
    "list1 = ['recency','frequency','monetary_value']\n",
    "\n",
    "for i in list1:\n",
    "    sns.barplot(x='prediction',y=str(i),data=avg_df)\n",
    "    plt.show()"
   ]
  },
  {
   "cell_type": "markdown",
   "id": "bf506fee",
   "metadata": {},
   "source": [
    "The codes above will render the following plots:\n",
    "\n",
    "Here is an overview of characteristics displayed by customers in each cluster:\n",
    "\n",
    "Cluster 0: Customers in this segment display low recency, frequency, and monetary value. They rarely shop on the platform and are low potential customers who are likely to stop doing business with the ecommerce company.\n",
    "\n",
    "Cluster 1: Users in this cluster display high recency but haven’t been seen spending much on the platform. They also don’t visit the site often. This indicates that they might be newer customers who have just started doing business with the company.\n",
    "\n",
    "Cluster 2: Customers in this segment display medium recency and frequency and spend a lot of money on the platform. This indicates that they tend to buy high-value items or make bulk purchases.\n",
    " \n",
    "Cluster 3: The final segment comprises users who display high recency and make frequent purchases on the platform. However, they don’t spend much on the platform, which might mean that they tend to select cheaper items in each purchase."
   ]
  },
  {
   "cell_type": "code",
   "execution_count": null,
   "id": "13e27ba9",
   "metadata": {},
   "outputs": [],
   "source": []
  }
 ],
 "metadata": {
  "kernelspec": {
   "display_name": ".venv",
   "language": "python",
   "name": "python3"
  },
  "language_info": {
   "codemirror_mode": {
    "name": "ipython",
    "version": 3
   },
   "file_extension": ".py",
   "mimetype": "text/x-python",
   "name": "python",
   "nbconvert_exporter": "python",
   "pygments_lexer": "ipython3",
   "version": "3.11.11"
  }
 },
 "nbformat": 4,
 "nbformat_minor": 5
}
