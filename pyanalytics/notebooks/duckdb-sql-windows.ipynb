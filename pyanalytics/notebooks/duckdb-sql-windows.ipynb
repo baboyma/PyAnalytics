{
 "cells": [
  {
   "cell_type": "markdown",
   "id": "bbea2108",
   "metadata": {},
   "source": [
    "# SQL WINDOWS FUNCTIONS\n",
    "\n",
    "Originally created by [@eugenia-anello](https://towardsdatascience.com/mastering-sql-window-functions/) and published on [Towards Data Science](https://towardsdatascience.com/). Now adapted to use duckdb as the database engine."
   ]
  },
  {
   "cell_type": "markdown",
   "id": "f1d961c3",
   "metadata": {},
   "source": [
    "## Pre-requisites:\n",
    "\n",
    "In order to practice SQL windows functions, we will need a sample database, some tables along with data to work with. We will use the `duckdb` database engine to create a sample database and populate it with data.\n",
    "\n",
    "@eugenia-anello used a quick and smart trick to create synthetic data. See the [initial post](https://towardsdatascience.com/an-introduction-to-ctes-in-sql-ab0a979578f9/) where ChatGPT was used to define a database and generate synthetic data. \n",
    "\n",
    "We will use similar approach to create a sample database and populate it with data. Instead of sales data, let use PEPFAR/HIV data. We will modify the prompt and use Gemini instead of ChatGPT to generate the SQL code to create the database and populate it with data.\n",
    "\n",
    "Here is the original prompt used for `ChatGPT`:\n",
    "\n",
    "```\n",
    "I want to create a database about sales of a fashion online company, \n",
    "zalando: create tables and insert rows using SQL. \n",
    "The goal of this database is to demonstrate the strenghts of SQL CTE. \n",
    "It should contain syntetic data that resemble real data between 2023 and 2024.\n",
    "``` \n",
    "\n",
    "Here is the modified prompt used for `Gemini (2.5 Flash)`:\n",
    "\n",
    "```\n",
    "I want to create a database about PEPFAR/HIV treatment programs for an NGO,\n",
    "AfricaAID: create tables and insert rows using SQL.\n",
    "The goal of this database is to demonstrate the strenghts of SQL CTE.\n",
    "It should contain synthetic data that resemble real data between 2023 and 2024.\n",
    "```\n",
    "\n",
    "The output of the prompt is located at `./pyanalytics/queries/gemini-africa-aid-hiv-database.sql`."
   ]
  },
  {
   "cell_type": "markdown",
   "id": "5d52b618",
   "metadata": {},
   "source": [
    "## Implementation\n",
    "\n",
    "We will be using `duckdb` as the database engine to implement a sample database and populate it with data."
   ]
  },
  {
   "cell_type": "code",
   "execution_count": 156,
   "id": "048992ea",
   "metadata": {},
   "outputs": [],
   "source": [
    "# Libraries\n",
    "import duckdb\n",
    "import pandas as pd"
   ]
  },
  {
   "cell_type": "code",
   "execution_count": 157,
   "id": "d5dd5e56",
   "metadata": {},
   "outputs": [
    {
     "name": "stdout",
     "output_type": "stream",
     "text": [
      "┌─────────┐\n",
      "│ version │\n",
      "│ varchar │\n",
      "├─────────┤\n",
      "│ v1.3.1  │\n",
      "└─────────┘\n",
      "\n"
     ]
    }
   ],
   "source": [
    "duckdb.sql(\"SELECT version() AS version\").show()"
   ]
  },
  {
   "cell_type": "code",
   "execution_count": 158,
   "id": "d8dc5783",
   "metadata": {},
   "outputs": [
    {
     "name": "stdout",
     "output_type": "stream",
     "text": [
      "┌───────────────────┐\n",
      "│ pepfar_start_date │\n",
      "│       date        │\n",
      "├───────────────────┤\n",
      "│ 2003-05-27        │\n",
      "└───────────────────┘\n",
      "\n"
     ]
    }
   ],
   "source": [
    "# Test DuckDB Engine\n",
    "duckdb.sql(\"SELECT DATE('2003-05-27') AS pepfar_start_date\").show()"
   ]
  },
  {
   "cell_type": "markdown",
   "id": "91521864",
   "metadata": {},
   "source": [
    "In case you didn't know, PEPFAR (the U.S. President's Emergency Plan for AIDS Relief) is a U.S. government initiative to address the global HIV/AIDS epidemic and help save the lives of those suffering from the disease, particularly in Africa. The initiative was launched in 2003 and has since provided billions of dollars in funding for HIV/AIDS prevention, treatment, and care programs in more than 50 countries.\n",
    "More info can be found at [PEPFAR](https://www.pepfar.gov/) or [HHS/HRSA](https://www.hrsa.gov/office-global-health/global-hivaids-program/about-pepfar)."
   ]
  },
  {
   "cell_type": "markdown",
   "id": "3e43079e",
   "metadata": {},
   "source": [
    "### Dababase Setup"
   ]
  },
  {
   "cell_type": "code",
   "execution_count": 159,
   "id": "f7f6bded",
   "metadata": {},
   "outputs": [],
   "source": [
    "from dotenv import load_dotenv\n",
    "import os\n",
    "from pathlib import Path"
   ]
  },
  {
   "cell_type": "code",
   "execution_count": null,
   "id": "aaa30db7",
   "metadata": {},
   "outputs": [],
   "source": [
    "# Load environment variables from .env file\n",
    "load_dotenv()"
   ]
  },
  {
   "cell_type": "code",
   "execution_count": 150,
   "id": "9916aa4b",
   "metadata": {},
   "outputs": [],
   "source": [
    "# Python notebook uses the parent directory of the current file as its working directory\n",
    "# so we need to be specific about the project root directory\n",
    "\n",
    "#print(os.getenv(\"DATA_DIR\"))\n",
    "#(os.path.exists(os.getenv(\"DATA_DIR\")))\n",
    "\n",
    "#print(os.getcwd())\n",
    "#print(Path(os.getcwd()).parent.parent)\n",
    "#print(os.listdir(Path(os.getcwd()).parent.parent))"
   ]
  },
  {
   "cell_type": "code",
   "execution_count": 161,
   "id": "a5a660b8",
   "metadata": {},
   "outputs": [],
   "source": [
    "# Data directory\n",
    "# This directory is used to store data files and should be set in the .env file\n",
    "# or default to \"data\" if not specified.\n",
    "\n",
    "# Make sure that the directory exists in the root.\n",
    "dir_data = Path(os.getcwd()).parent.parent / \"data\"\n",
    "\n",
    "if not os.path.exists(dir_data):\n",
    "    os.makedirs(dir_data)\n",
    "\n",
    "# Directory for data files\n",
    "DIR_DATA = os.getenv(\"DATA_DIR\", dir_data)\n"
   ]
  },
  {
   "cell_type": "code",
   "execution_count": 166,
   "id": "b0145259",
   "metadata": {},
   "outputs": [
    {
     "name": "stdout",
     "output_type": "stream",
     "text": [
      "Data directory: ~/Documents/Projects/data\n"
     ]
    }
   ],
   "source": [
    "print(f\"Data directory: {DIR_DATA}\")"
   ]
  },
  {
   "cell_type": "code",
   "execution_count": 167,
   "id": "4113829e",
   "metadata": {},
   "outputs": [],
   "source": [
    "# Let Create a DuckDB Database in the data directory\n",
    "\n",
    "db_name = \"AfricaAID.db\"\n",
    "\n",
    "db_path = Path(DIR_DATA) / db_name"
   ]
  },
  {
   "cell_type": "code",
   "execution_count": 168,
   "id": "0e17cf32",
   "metadata": {},
   "outputs": [
    {
     "name": "stdout",
     "output_type": "stream",
     "text": [
      "~/Documents/Projects/data/AfricaAID.db\n"
     ]
    }
   ],
   "source": [
    "print(db_path)"
   ]
  },
  {
   "cell_type": "code",
   "execution_count": 169,
   "id": "d363b307",
   "metadata": {},
   "outputs": [],
   "source": [
    "conn = duckdb.connect(str(db_path))"
   ]
  },
  {
   "cell_type": "markdown",
   "id": "c38aa7f3",
   "metadata": {},
   "source": [
    "### Database tables definitions"
   ]
  },
  {
   "cell_type": "code",
   "execution_count": 170,
   "id": "614b3aac",
   "metadata": {},
   "outputs": [
    {
     "data": {
      "text/plain": [
       "<duckdb.duckdb.DuckDBPyConnection at 0x11e6aaab0>"
      ]
     },
     "execution_count": 170,
     "metadata": {},
     "output_type": "execute_result"
    }
   ],
   "source": [
    "# Table - Countries\n",
    "\n",
    "# Create a duckdb table primary key sequence for Countries/country_id\n",
    "conn.execute(\"CREATE SEQUENCE IF NOT EXISTS country_id_seq START WITH 1 INCREMENT BY 1\")\n",
    "\n",
    "# Create countries table with country_id as primary key and automatic increment\n",
    "conn.execute(\n",
    "    \"\"\"CREATE TABLE Countries (\n",
    "        country_id INT PRIMARY KEY DEFAULT nextval('country_id_seq'),\n",
    "        country_name VARCHAR(100) NOT NULL,\n",
    "        continent VARCHAR(50) NOT NULL\n",
    "    )\"\"\"\n",
    ")"
   ]
  },
  {
   "cell_type": "code",
   "execution_count": 171,
   "id": "47e4e0ef",
   "metadata": {},
   "outputs": [
    {
     "data": {
      "text/plain": [
       "<duckdb.duckdb.DuckDBPyConnection at 0x11e6aaab0>"
      ]
     },
     "execution_count": 171,
     "metadata": {},
     "output_type": "execute_result"
    }
   ],
   "source": [
    "# Table - Implementing Partners\n",
    "# With partner types: e.g., 'Local NGO', 'International NGO', 'Government Agency'\n",
    "conn.execute(\"CREATE SEQUENCE IF NOT EXISTS partner_id_seq START WITH 1 INCREMENT BY 1\")\n",
    "\n",
    "conn.execute(\n",
    "    \"\"\"CREATE TABLE Partners (\n",
    "        partner_id INT PRIMARY KEY DEFAULT nextval('partner_id_seq'),\n",
    "        partner_name VARCHAR(255) NOT NULL,\n",
    "        partner_type VARCHAR(100)\n",
    "    )\"\"\"\n",
    ")"
   ]
  },
  {
   "cell_type": "code",
   "execution_count": 172,
   "id": "53fe0981",
   "metadata": {},
   "outputs": [
    {
     "data": {
      "text/plain": [
       "<duckdb.duckdb.DuckDBPyConnection at 0x11e6aaab0>"
      ]
     },
     "execution_count": 172,
     "metadata": {},
     "output_type": "execute_result"
    }
   ],
   "source": [
    "# Table - Programs Sites\n",
    "# With site types: e.g., 'Hospital', 'Clinic', 'Community Center'\n",
    "\n",
    "conn.execute(\"CREATE SEQUENCE IF NOT EXISTS site_id_seq START WITH 1 INCREMENT BY 1\")\n",
    "\n",
    "conn.execute(\n",
    "    \"\"\"CREATE TABLE ProgramSites (\n",
    "        site_id INT PRIMARY KEY DEFAULT nextval('site_id_seq'),\n",
    "        site_name VARCHAR(255) NOT NULL,\n",
    "        country_id INT,\n",
    "        partner_id INT,\n",
    "        site_type VARCHAR(100),\n",
    "        latitude DECIMAL(9, 6),\n",
    "        longitude DECIMAL(9, 6),\n",
    "        FOREIGN KEY (country_id) REFERENCES Countries(country_id),\n",
    "        FOREIGN KEY (partner_id) REFERENCES Partners(partner_id)\n",
    "    )\"\"\"\n",
    ")"
   ]
  },
  {
   "cell_type": "code",
   "execution_count": 173,
   "id": "866bb449",
   "metadata": {},
   "outputs": [
    {
     "data": {
      "text/plain": [
       "<duckdb.duckdb.DuckDBPyConnection at 0x11e6aaab0>"
      ]
     },
     "execution_count": 173,
     "metadata": {},
     "output_type": "execute_result"
    }
   ],
   "source": [
    "# Table - Treatment Enrollment\n",
    "## With patient gender options -- 'Male', 'Female', 'Other'\n",
    "## With -- e.g., 'Active', 'Lost to Follow-up', 'Deceased'\n",
    "\n",
    "conn.execute(\"CREATE SEQUENCE IF NOT EXISTS enrollment_id_seq START WITH 1 INCREMENT BY 1\")\n",
    "\n",
    "conn.execute(\n",
    "    \"\"\"CREATE TABLE TreatmentEnrollments (\n",
    "        enrollment_id INT PRIMARY KEY DEFAULT nextval('enrollment_id_seq'),\n",
    "        site_id INT,\n",
    "        enrollment_date DATE NOT NULL,\n",
    "        patient_age INT,\n",
    "        patient_gender VARCHAR(10),\n",
    "        treatment_status VARCHAR(50),\n",
    "        FOREIGN KEY (site_id) REFERENCES ProgramSites(site_id)\n",
    "    )\"\"\"\n",
    ")"
   ]
  },
  {
   "cell_type": "code",
   "execution_count": 174,
   "id": "8b0ba5bc",
   "metadata": {},
   "outputs": [
    {
     "data": {
      "text/plain": [
       "<duckdb.duckdb.DuckDBPyConnection at 0x11e6aaab0>"
      ]
     },
     "execution_count": 174,
     "metadata": {},
     "output_type": "execute_result"
    }
   ],
   "source": [
    "# Table - Funding Allocations\n",
    "# With funding category -- e.g., 'Prevention', 'Treatment', 'Care & Support', 'Lab Services'\n",
    "\n",
    "conn.execute(\"CREATE SEQUENCE IF NOT EXISTS funding_id_seq START WITH 1 INCREMENT BY 1\")\n",
    "\n",
    "conn.execute(\n",
    "    \"\"\"CREATE TABLE FundingAllocations (\n",
    "        funding_id INT PRIMARY KEY DEFAULT nextval('funding_id_seq'),\n",
    "        partner_id INT,\n",
    "        country_id INT,\n",
    "        fiscal_year INT NOT NULL,\n",
    "        allocated_amount DECIMAL(18, 2) NOT NULL,\n",
    "        fund_category VARCHAR(100),\n",
    "        FOREIGN KEY (partner_id) REFERENCES Partners(partner_id),\n",
    "        FOREIGN KEY (country_id) REFERENCES Countries(country_id)\n",
    "    )\"\"\"\n",
    ")"
   ]
  },
  {
   "cell_type": "markdown",
   "id": "3c23bc54",
   "metadata": {},
   "source": [
    "### Database - Data Insertions"
   ]
  },
  {
   "cell_type": "code",
   "execution_count": 175,
   "id": "c703d331",
   "metadata": {},
   "outputs": [
    {
     "data": {
      "text/plain": [
       "<duckdb.duckdb.DuckDBPyConnection at 0x11e6aaab0>"
      ]
     },
     "execution_count": 175,
     "metadata": {},
     "output_type": "execute_result"
    }
   ],
   "source": [
    "# Table - Countries\n",
    "\n",
    "conn.execute(\n",
    "    \"\"\"INSERT INTO Countries (country_name, continent) VALUES\n",
    "        ('South Africa', 'Africa'),\n",
    "        ('Kenya', 'Africa'),\n",
    "        ('Uganda', 'Africa'),\n",
    "        ('Tanzania', 'Africa'),\n",
    "        ('Zambia', 'Africa')\n",
    "    \"\"\"\n",
    ")"
   ]
  },
  {
   "cell_type": "code",
   "execution_count": 176,
   "id": "7a7e44a8",
   "metadata": {},
   "outputs": [
    {
     "data": {
      "text/plain": [
       "<duckdb.duckdb.DuckDBPyConnection at 0x11e6aaab0>"
      ]
     },
     "execution_count": 176,
     "metadata": {},
     "output_type": "execute_result"
    }
   ],
   "source": [
    "# Table - Partners\n",
    "\n",
    "conn.execute(\n",
    "    \"\"\"INSERT INTO Partners (partner_name, partner_type) VALUES\n",
    "        ('Global Health Initiative', 'International NGO'),\n",
    "        ('African AIDS Network', 'Local NGO'),\n",
    "        ('Ministry of Health - Kenya', 'Government Agency'),\n",
    "        ('Youth Empowerment Foundation', 'Local NGO'),\n",
    "        ('Disease Control Alliance', 'International NGO')\n",
    "    \"\"\"\n",
    ")"
   ]
  },
  {
   "cell_type": "code",
   "execution_count": 177,
   "id": "5c2b633a",
   "metadata": {},
   "outputs": [
    {
     "data": {
      "text/plain": [
       "<duckdb.duckdb.DuckDBPyConnection at 0x11e6aaab0>"
      ]
     },
     "execution_count": 177,
     "metadata": {},
     "output_type": "execute_result"
    }
   ],
   "source": [
    "# Table - Program Sites\n",
    "\n",
    "conn.execute(\n",
    "    \"\"\"INSERT INTO ProgramSites (site_name, country_id, partner_id, site_type, latitude, longitude) VALUES\n",
    "        ('Pretoria General Hospital', 1, 1, 'Hospital', -25.747868, 28.229271),\n",
    "        ('Nairobi Community Clinic', 2, 3, 'Clinic', -1.292066, 36.821946),\n",
    "        ('Kampala Central Health Center', 3, 2, 'Community Center', 0.347596, 32.582520),\n",
    "        ('Dar es Salaam Urban Clinic', 4, 1, 'Clinic', -6.792354, 39.208328),\n",
    "        ('Lusaka Regional Hospital', 5, 5, 'Hospital', -15.387520, 28.322817),\n",
    "        ('Cape Town HIV Wellness Center', 1, 2, 'Community Center', -33.924900, 18.424100),\n",
    "        ('Kisumu Referral Hospital', 2, 1, 'Hospital', -0.091700, 34.767900),\n",
    "        ('Mbarara District Clinic', 3, 4, 'Clinic', -0.604800, 30.655800),\n",
    "        ('Dodoma Regional Clinic', 4, 3, 'Clinic', -6.163100, 35.751900),\n",
    "        ('Ndola Urban Health Post', 5, 2, 'Community Center', -12.981800, 28.636600)\n",
    "    \"\"\"\n",
    ")"
   ]
  },
  {
   "cell_type": "code",
   "execution_count": 178,
   "id": "0b72db6a",
   "metadata": {},
   "outputs": [
    {
     "data": {
      "text/plain": [
       "<duckdb.duckdb.DuckDBPyConnection at 0x11e6aaab0>"
      ]
     },
     "execution_count": 178,
     "metadata": {},
     "output_type": "execute_result"
    }
   ],
   "source": [
    "# Table - Treatment Enrollments\n",
    "\n",
    "conn.execute(\n",
    "    \"\"\"INSERT INTO TreatmentEnrollments (site_id, enrollment_date, patient_age, patient_gender, treatment_status) VALUES\n",
    "        (1, '2023-01-15', 35, 'Female', 'Active'),\n",
    "        (2, '2023-02-01', 28, 'Male', 'Active'),\n",
    "        (3, '2023-03-10', 42, 'Female', 'Active'),\n",
    "        (4, '2023-04-05', 19, 'Male', 'Active'),\n",
    "        (5, '2023-05-20', 50, 'Female', 'Active'),\n",
    "        (1, '2023-06-01', 22, 'Male', 'Active'),\n",
    "        (2, '2023-07-11', 30, 'Female', 'Active'),\n",
    "        (3, '2023-08-19', 45, 'Male', 'Lost to Follow-up'),\n",
    "        (4, '2023-09-02', 26, 'Female', 'Active'),\n",
    "        (5, '2023-10-14', 38, 'Male', 'Active'),\n",
    "        (6, '2023-11-20', 31, 'Female', 'Active'),\n",
    "        (7, '2023-12-05', 24, 'Male', 'Active'),\n",
    "        (8, '2023-12-25', 55, 'Female', 'Active'),\n",
    "        (1, '2024-01-08', 29, 'Female', 'Active'),\n",
    "        (2, '2024-02-18', 33, 'Male', 'Active'),\n",
    "        (3, '2024-03-01', 40, 'Female', 'Active'),\n",
    "        (4, '2024-04-12', 21, 'Male', 'Active'),\n",
    "        (5, '2024-05-01', 48, 'Female', 'Active'),\n",
    "        (6, '2024-06-10', 27, 'Male', 'Active'),\n",
    "        (7, '2024-07-01', 36, 'Female', 'Active'),\n",
    "        (8, '2024-08-15', 52, 'Male', 'Deceased'),\n",
    "        (9, '2024-09-01', 23, 'Female', 'Active'),\n",
    "        (10, '2024-10-20', 39, 'Male', 'Active'),\n",
    "        (1, '2024-11-05', 30, 'Female', 'Active'),\n",
    "        (2, '2024-12-10', 25, 'Male', 'Active')\n",
    "    \"\"\"\n",
    ")"
   ]
  },
  {
   "cell_type": "code",
   "execution_count": 179,
   "id": "e97b2e59",
   "metadata": {},
   "outputs": [
    {
     "data": {
      "text/plain": [
       "<duckdb.duckdb.DuckDBPyConnection at 0x11e6aaab0>"
      ]
     },
     "execution_count": 179,
     "metadata": {},
     "output_type": "execute_result"
    }
   ],
   "source": [
    "# Table - Funding Allocations\n",
    "\n",
    "conn.execute(\n",
    "    \"\"\"INSERT INTO FundingAllocations (partner_id, country_id, fiscal_year, allocated_amount, fund_category) VALUES\n",
    "        (1, 1, 2023, 500000.00, 'Treatment'),\n",
    "        (3, 2, 2023, 300000.00, 'Prevention'),\n",
    "        (2, 3, 2023, 250000.00, 'Care & Support'),\n",
    "        (1, 4, 2023, 400000.00, 'Treatment'),\n",
    "        (5, 5, 2023, 350000.00, 'Lab Services'),\n",
    "        (2, 1, 2023, 150000.00, 'Prevention'),\n",
    "        (1, 2, 2023, 200000.00, 'Care & Support'),\n",
    "        (1, 1, 2024, 550000.00, 'Treatment'),\n",
    "        (3, 2, 2024, 320000.00, 'Prevention'),\n",
    "        (2, 3, 2024, 270000.00, 'Care & Support'),\n",
    "        (1, 4, 2024, 420000.00, 'Treatment'),\n",
    "        (5, 5, 2024, 380000.00, 'Lab Services'),\n",
    "        (4, 3, 2024, 100000.00, 'Prevention'),\n",
    "        (3, 4, 2024, 180000.00, 'Care & Support')\n",
    "    \"\"\"\n",
    ")"
   ]
  },
  {
   "cell_type": "markdown",
   "id": "3b1dbdfb",
   "metadata": {},
   "source": [
    "## Database Queries"
   ]
  },
  {
   "cell_type": "code",
   "execution_count": 180,
   "id": "d25ae1ad",
   "metadata": {},
   "outputs": [
    {
     "name": "stdout",
     "output_type": "stream",
     "text": [
      "┌───────────┬─────────┬──────────────────────┬──────────────────────────────────────────────────────────────────────────────────────────┬───────────────────────────────────────────────────────────────────────────────┬───────────┐\n",
      "│ database  │ schema  │         name         │                                       column_names                                       │                                 column_types                                  │ temporary │\n",
      "│  varchar  │ varchar │       varchar        │                                        varchar[]                                         │                                   varchar[]                                   │  boolean  │\n",
      "├───────────┼─────────┼──────────────────────┼──────────────────────────────────────────────────────────────────────────────────────────┼───────────────────────────────────────────────────────────────────────────────┼───────────┤\n",
      "│ AfricaAID │ main    │ Countries            │ [country_id, country_name, continent]                                                    │ [INTEGER, VARCHAR, VARCHAR]                                                   │ false     │\n",
      "│ AfricaAID │ main    │ FundingAllocations   │ [funding_id, partner_id, country_id, fiscal_year, allocated_amount, fund_category]       │ [INTEGER, INTEGER, INTEGER, INTEGER, 'DECIMAL(18,2)', VARCHAR]                │ false     │\n",
      "│ AfricaAID │ main    │ Partners             │ [partner_id, partner_name, partner_type]                                                 │ [INTEGER, VARCHAR, VARCHAR]                                                   │ false     │\n",
      "│ AfricaAID │ main    │ ProgramSites         │ [site_id, site_name, country_id, partner_id, site_type, latitude, longitude]             │ [INTEGER, VARCHAR, INTEGER, INTEGER, VARCHAR, 'DECIMAL(9,6)', 'DECIMAL(9,6)'] │ false     │\n",
      "│ AfricaAID │ main    │ TreatmentEnrollments │ [enrollment_id, site_id, enrollment_date, patient_age, patient_gender, treatment_status] │ [INTEGER, INTEGER, DATE, INTEGER, VARCHAR, VARCHAR]                           │ false     │\n",
      "└───────────┴─────────┴──────────────────────┴──────────────────────────────────────────────────────────────────────────────────────────┴───────────────────────────────────────────────────────────────────────────────┴───────────┘\n",
      "\n"
     ]
    }
   ],
   "source": [
    "# List of table (with details) within the DuckDB database\n",
    "conn.sql(\"SHOW ALL TABLES\").show()"
   ]
  },
  {
   "cell_type": "code",
   "execution_count": 181,
   "id": "f82bb6a0",
   "metadata": {},
   "outputs": [
    {
     "name": "stdout",
     "output_type": "stream",
     "text": [
      "┌──────────────────────┐\n",
      "│         name         │\n",
      "│       varchar        │\n",
      "├──────────────────────┤\n",
      "│ Countries            │\n",
      "│ FundingAllocations   │\n",
      "│ Partners             │\n",
      "│ ProgramSites         │\n",
      "│ TreatmentEnrollments │\n",
      "└──────────────────────┘\n",
      "\n"
     ]
    }
   ],
   "source": [
    "# Simple list of tables name\n",
    "conn.sql(\"SHOW TABLES\").show()"
   ]
  },
  {
   "cell_type": "code",
   "execution_count": 182,
   "id": "3cd0d5b1",
   "metadata": {},
   "outputs": [
    {
     "name": "stdout",
     "output_type": "stream",
     "text": [
      "┌──────────────┬─────────────┬─────────┬─────────┬───────────────────────────┬─────────┐\n",
      "│ column_name  │ column_type │  null   │   key   │          default          │  extra  │\n",
      "│   varchar    │   varchar   │ varchar │ varchar │          varchar          │ varchar │\n",
      "├──────────────┼─────────────┼─────────┼─────────┼───────────────────────────┼─────────┤\n",
      "│ country_id   │ INTEGER     │ NO      │ PRI     │ nextval('country_id_seq') │ NULL    │\n",
      "│ country_name │ VARCHAR     │ NO      │ NULL    │ NULL                      │ NULL    │\n",
      "│ continent    │ VARCHAR     │ NO      │ NULL    │ NULL                      │ NULL    │\n",
      "└──────────────┴─────────────┴─────────┴─────────┴───────────────────────────┴─────────┘\n",
      "\n"
     ]
    }
   ],
   "source": [
    "# Table Structure - Countries\n",
    "conn.sql(\"SHOW Countries\").show()"
   ]
  },
  {
   "cell_type": "code",
   "execution_count": 183,
   "id": "a2671655",
   "metadata": {},
   "outputs": [
    {
     "name": "stdout",
     "output_type": "stream",
     "text": [
      "┌──────────────┬─────────────┬─────────┬─────────┬───────────────────────────┬─────────┐\n",
      "│ column_name  │ column_type │  null   │   key   │          default          │  extra  │\n",
      "│   varchar    │   varchar   │ varchar │ varchar │          varchar          │ varchar │\n",
      "├──────────────┼─────────────┼─────────┼─────────┼───────────────────────────┼─────────┤\n",
      "│ partner_id   │ INTEGER     │ NO      │ PRI     │ nextval('partner_id_seq') │ NULL    │\n",
      "│ partner_name │ VARCHAR     │ NO      │ NULL    │ NULL                      │ NULL    │\n",
      "│ partner_type │ VARCHAR     │ YES     │ NULL    │ NULL                      │ NULL    │\n",
      "└──────────────┴─────────────┴─────────┴─────────┴───────────────────────────┴─────────┘\n",
      "\n"
     ]
    }
   ],
   "source": [
    "# Table Structure - Partners\n",
    "conn.sql(\"DESCRIBE Partners\").show()"
   ]
  },
  {
   "cell_type": "code",
   "execution_count": 185,
   "id": "191dfe64",
   "metadata": {},
   "outputs": [
    {
     "name": "stdout",
     "output_type": "stream",
     "text": [
      "┌────────────┬──────────────┬───────────┐\n",
      "│ country_id │ country_name │ continent │\n",
      "│   int32    │   varchar    │  varchar  │\n",
      "├────────────┼──────────────┼───────────┤\n",
      "│          1 │ South Africa │ Africa    │\n",
      "│          2 │ Kenya        │ Africa    │\n",
      "│          3 │ Uganda       │ Africa    │\n",
      "│          4 │ Tanzania     │ Africa    │\n",
      "│          5 │ Zambia       │ Africa    │\n",
      "└────────────┴──────────────┴───────────┘\n",
      "\n"
     ]
    }
   ],
   "source": [
    "# Tables Content - Countries\n",
    "conn.sql(\"SELECT * FROM Countries\").show()"
   ]
  },
  {
   "cell_type": "code",
   "execution_count": 186,
   "id": "159e59ce",
   "metadata": {},
   "outputs": [
    {
     "name": "stdout",
     "output_type": "stream",
     "text": [
      "┌───────────┬─────────────┐\n",
      "│ continent │ n_countries │\n",
      "│  varchar  │    int64    │\n",
      "├───────────┼─────────────┤\n",
      "│ Africa    │           5 │\n",
      "└───────────┴─────────────┘\n",
      "\n"
     ]
    }
   ],
   "source": [
    "# # of countries by continent\n",
    "conn.sql(\n",
    "    \"\"\"SELECT continent, COUNT (Country_name) as n_countries\n",
    "        FROM Countries\n",
    "        GROUP BY continent\"\"\"\n",
    "    ).show()"
   ]
  },
  {
   "cell_type": "code",
   "execution_count": 187,
   "id": "337c9945",
   "metadata": {},
   "outputs": [
    {
     "name": "stdout",
     "output_type": "stream",
     "text": [
      "┌────────────┬──────────────────────────────┬───────────────────┐\n",
      "│ partner_id │         partner_name         │   partner_type    │\n",
      "│   int32    │           varchar            │      varchar      │\n",
      "├────────────┼──────────────────────────────┼───────────────────┤\n",
      "│          1 │ Global Health Initiative     │ International NGO │\n",
      "│          2 │ African AIDS Network         │ Local NGO         │\n",
      "│          3 │ Ministry of Health - Kenya   │ Government Agency │\n",
      "│          4 │ Youth Empowerment Foundation │ Local NGO         │\n",
      "│          5 │ Disease Control Alliance     │ International NGO │\n",
      "└────────────┴──────────────────────────────┴───────────────────┘\n",
      "\n"
     ]
    }
   ],
   "source": [
    "# Tables Content - Partners\n",
    "conn.sql(\"SELECT * FROM Partners\").show()"
   ]
  },
  {
   "cell_type": "code",
   "execution_count": 188,
   "id": "df027418",
   "metadata": {},
   "outputs": [
    {
     "name": "stdout",
     "output_type": "stream",
     "text": [
      "┌───────────────────┬────────────┐\n",
      "│   partner_type    │ n_partners │\n",
      "│      varchar      │   int64    │\n",
      "├───────────────────┼────────────┤\n",
      "│ International NGO │          2 │\n",
      "│ Local NGO         │          2 │\n",
      "│ Government Agency │          1 │\n",
      "└───────────────────┴────────────┘\n",
      "\n"
     ]
    }
   ],
   "source": [
    "# # of partners by type\n",
    "conn.sql(\n",
    "    \"\"\"SELECT partner_type, COUNT (partner_id) as n_partners\n",
    "        FROM Partners\n",
    "        GROUP BY partner_type\n",
    "        ORDER BY n_partners DESC\"\"\"\n",
    "    ).show()"
   ]
  },
  {
   "cell_type": "code",
   "execution_count": 189,
   "id": "49735834",
   "metadata": {},
   "outputs": [
    {
     "name": "stdout",
     "output_type": "stream",
     "text": [
      "┌─────────┬───────────────────────────────┬────────────┬────────────┬──────────────────┬──────────────┬──────────────┐\n",
      "│ site_id │           site_name           │ country_id │ partner_id │    site_type     │   latitude   │  longitude   │\n",
      "│  int32  │            varchar            │   int32    │   int32    │     varchar      │ decimal(9,6) │ decimal(9,6) │\n",
      "├─────────┼───────────────────────────────┼────────────┼────────────┼──────────────────┼──────────────┼──────────────┤\n",
      "│       1 │ Pretoria General Hospital     │          1 │          1 │ Hospital         │   -25.747868 │    28.229271 │\n",
      "│       2 │ Nairobi Community Clinic      │          2 │          3 │ Clinic           │    -1.292066 │    36.821946 │\n",
      "│       3 │ Kampala Central Health Center │          3 │          2 │ Community Center │     0.347596 │    32.582520 │\n",
      "│       4 │ Dar es Salaam Urban Clinic    │          4 │          1 │ Clinic           │    -6.792354 │    39.208328 │\n",
      "│       5 │ Lusaka Regional Hospital      │          5 │          5 │ Hospital         │   -15.387520 │    28.322817 │\n",
      "│       6 │ Cape Town HIV Wellness Center │          1 │          2 │ Community Center │   -33.924900 │    18.424100 │\n",
      "│       7 │ Kisumu Referral Hospital      │          2 │          1 │ Hospital         │    -0.091700 │    34.767900 │\n",
      "│       8 │ Mbarara District Clinic       │          3 │          4 │ Clinic           │    -0.604800 │    30.655800 │\n",
      "│       9 │ Dodoma Regional Clinic        │          4 │          3 │ Clinic           │    -6.163100 │    35.751900 │\n",
      "│      10 │ Ndola Urban Health Post       │          5 │          2 │ Community Center │   -12.981800 │    28.636600 │\n",
      "├─────────┴───────────────────────────────┴────────────┴────────────┴──────────────────┴──────────────┴──────────────┤\n",
      "│ 10 rows                                                                                                  7 columns │\n",
      "└────────────────────────────────────────────────────────────────────────────────────────────────────────────────────┘\n",
      "\n"
     ]
    }
   ],
   "source": [
    "# Tables Content - Sites\n",
    "conn.sql(\"SELECT * FROM ProgramSites\").show()"
   ]
  },
  {
   "cell_type": "code",
   "execution_count": 190,
   "id": "e1c694e1",
   "metadata": {},
   "outputs": [
    {
     "name": "stdout",
     "output_type": "stream",
     "text": [
      "┌──────────────┬─────────┐\n",
      "│ country_name │ n_sites │\n",
      "│   varchar    │  int64  │\n",
      "├──────────────┼─────────┤\n",
      "│ Kenya        │       2 │\n",
      "│ South Africa │       2 │\n",
      "│ Tanzania     │       2 │\n",
      "│ Uganda       │       2 │\n",
      "│ Zambia       │       2 │\n",
      "└──────────────┴─────────┘\n",
      "\n"
     ]
    }
   ],
   "source": [
    "# # of program sites by country and partner\n",
    "conn.sql(\n",
    "    \"\"\"SELECT c.country_name, COUNT(s.site_id) AS n_sites\n",
    "        FROM ProgramSites s\n",
    "        JOIN Countries c ON s.country_id = c.country_id\n",
    "        GROUP BY c.country_name\n",
    "        ORDER BY n_sites DESC, c.country_name ASC\"\"\"\n",
    ").show()"
   ]
  },
  {
   "cell_type": "code",
   "execution_count": 191,
   "id": "0a6398dc",
   "metadata": {},
   "outputs": [
    {
     "name": "stdout",
     "output_type": "stream",
     "text": [
      "┌───────────────┬─────────┬─────────────────┬─────────────┬────────────────┬───────────────────┐\n",
      "│ enrollment_id │ site_id │ enrollment_date │ patient_age │ patient_gender │ treatment_status  │\n",
      "│     int32     │  int32  │      date       │    int32    │    varchar     │      varchar      │\n",
      "├───────────────┼─────────┼─────────────────┼─────────────┼────────────────┼───────────────────┤\n",
      "│             1 │       1 │ 2023-01-15      │          35 │ Female         │ Active            │\n",
      "│             2 │       2 │ 2023-02-01      │          28 │ Male           │ Active            │\n",
      "│             3 │       3 │ 2023-03-10      │          42 │ Female         │ Active            │\n",
      "│             4 │       4 │ 2023-04-05      │          19 │ Male           │ Active            │\n",
      "│             5 │       5 │ 2023-05-20      │          50 │ Female         │ Active            │\n",
      "│             6 │       1 │ 2023-06-01      │          22 │ Male           │ Active            │\n",
      "│             7 │       2 │ 2023-07-11      │          30 │ Female         │ Active            │\n",
      "│             8 │       3 │ 2023-08-19      │          45 │ Male           │ Lost to Follow-up │\n",
      "│             9 │       4 │ 2023-09-02      │          26 │ Female         │ Active            │\n",
      "│            10 │       5 │ 2023-10-14      │          38 │ Male           │ Active            │\n",
      "│             · │       · │     ·           │           · │  ·             │   ·               │\n",
      "│             · │       · │     ·           │           · │  ·             │   ·               │\n",
      "│             · │       · │     ·           │           · │  ·             │   ·               │\n",
      "│            16 │       3 │ 2024-03-01      │          40 │ Female         │ Active            │\n",
      "│            17 │       4 │ 2024-04-12      │          21 │ Male           │ Active            │\n",
      "│            18 │       5 │ 2024-05-01      │          48 │ Female         │ Active            │\n",
      "│            19 │       6 │ 2024-06-10      │          27 │ Male           │ Active            │\n",
      "│            20 │       7 │ 2024-07-01      │          36 │ Female         │ Active            │\n",
      "│            21 │       8 │ 2024-08-15      │          52 │ Male           │ Deceased          │\n",
      "│            22 │       9 │ 2024-09-01      │          23 │ Female         │ Active            │\n",
      "│            23 │      10 │ 2024-10-20      │          39 │ Male           │ Active            │\n",
      "│            24 │       1 │ 2024-11-05      │          30 │ Female         │ Active            │\n",
      "│            25 │       2 │ 2024-12-10      │          25 │ Male           │ Active            │\n",
      "├───────────────┴─────────┴─────────────────┴─────────────┴────────────────┴───────────────────┤\n",
      "│ 25 rows (20 shown)                                                                 6 columns │\n",
      "└──────────────────────────────────────────────────────────────────────────────────────────────┘\n",
      "\n"
     ]
    }
   ],
   "source": [
    "# Tables Content - TX Enrollments\n",
    "conn.sql(\"SELECT * FROM TreatmentEnrollments\").show()"
   ]
  },
  {
   "cell_type": "code",
   "execution_count": null,
   "id": "8c35f729",
   "metadata": {},
   "outputs": [
    {
     "name": "stdout",
     "output_type": "stream",
     "text": [
      "┌───────────────────┬────────────┬──────────────┐\n",
      "│      status       │ n_patients │ pct_patients │\n",
      "│      varchar      │   int64    │    double    │\n",
      "├───────────────────┼────────────┼──────────────┤\n",
      "│ Active            │         23 │         0.92 │\n",
      "│ Deceased          │          1 │         0.04 │\n",
      "│ Lost to Follow-up │          1 │         0.04 │\n",
      "└───────────────────┴────────────┴──────────────┘\n",
      "\n"
     ]
    }
   ],
   "source": [
    "# # of enrollments by treatment status - using a simple window function to calculate percentages\n",
    "conn.sql(\n",
    "    \"\"\"SELECT\n",
    "        e.treatment_status as status,\n",
    "        COUNT(e.enrollment_id) as n_patients,\n",
    "        ROUND(COUNT(e.enrollment_id) / SUM(COUNT(e.enrollment_id)) OVER (), 2) AS pct_patients,\n",
    "        FROM TreatmentEnrollments e\n",
    "        JOIN ProgramSites s ON e.site_id = s.site_id\n",
    "        GROUP BY e.treatment_status,\n",
    "        ORDER BY e.treatment_status, n_patients DESC\"\"\"\n",
    ").show()"
   ]
  },
  {
   "cell_type": "code",
   "execution_count": null,
   "id": "bdfe1514",
   "metadata": {},
   "outputs": [
    {
     "name": "stdout",
     "output_type": "stream",
     "text": [
      "┌──────────────┬─────────┬────────────┬──────────────┐\n",
      "│   country    │ gender  │ n_patients │ pct_patients │\n",
      "│   varchar    │ varchar │   int64    │    double    │\n",
      "├──────────────┼─────────┼────────────┼──────────────┤\n",
      "│ Kenya        │ Male    │          4 │         0.67 │\n",
      "│ Kenya        │ Female  │          2 │         0.33 │\n",
      "│ South Africa │ Female  │          4 │         0.67 │\n",
      "│ South Africa │ Male    │          2 │         0.33 │\n",
      "│ Tanzania     │ Female  │          2 │          0.5 │\n",
      "│ Tanzania     │ Male    │          2 │          0.5 │\n",
      "│ Uganda       │ Female  │          3 │          0.6 │\n",
      "│ Uganda       │ Male    │          2 │          0.4 │\n",
      "│ Zambia       │ Female  │          2 │          0.5 │\n",
      "│ Zambia       │ Male    │          2 │          0.5 │\n",
      "├──────────────┴─────────┴────────────┴──────────────┤\n",
      "│ 10 rows                                  4 columns │\n",
      "└────────────────────────────────────────────────────┘\n",
      "\n"
     ]
    }
   ],
   "source": [
    "# # of enrollments by country and gender - Using a Partitioned Window Function\n",
    "conn.sql(\n",
    "    \"\"\"SELECT\n",
    "        c.country_name as country,\n",
    "        e.patient_gender as gender,\n",
    "        COUNT(e.enrollment_id) as n_patients,\n",
    "        ROUND(COUNT(e.enrollment_id) / SUM(COUNT(e.enrollment_id)) OVER (PARTITION BY c.country_name), 2) AS pct_patients,\n",
    "        FROM TreatmentEnrollments e\n",
    "        JOIN ProgramSites s ON e.site_id = s.site_id\n",
    "        JOIN Countries c ON s.country_id = c.country_id\n",
    "        GROUP BY c.country_name, e.patient_gender\n",
    "        ORDER BY c.country_name, n_patients DESC\"\"\"\n",
    ").show()"
   ]
  },
  {
   "cell_type": "code",
   "execution_count": 210,
   "id": "ed5a1ed1",
   "metadata": {},
   "outputs": [
    {
     "name": "stdout",
     "output_type": "stream",
     "text": [
      "┌──────────────┬─────────────────┬────────────┬──────────────┐\n",
      "│   country    │ enrollment_year │ n_patients │ pct_patients │\n",
      "│   varchar    │      int64      │   int64    │    double    │\n",
      "├──────────────┼─────────────────┼────────────┼──────────────┤\n",
      "│ Kenya        │            2024 │          3 │          1.0 │\n",
      "│ Kenya        │            2023 │          3 │          1.0 │\n",
      "│ South Africa │            2023 │          3 │          1.0 │\n",
      "│ South Africa │            2024 │          3 │          1.0 │\n",
      "│ Tanzania     │            2023 │          2 │          1.0 │\n",
      "│ Tanzania     │            2024 │          2 │          1.0 │\n",
      "│ Uganda       │            2023 │          3 │          1.0 │\n",
      "│ Uganda       │            2024 │          2 │          1.0 │\n",
      "│ Zambia       │            2024 │          2 │          1.0 │\n",
      "│ Zambia       │            2023 │          2 │          1.0 │\n",
      "├──────────────┴─────────────────┴────────────┴──────────────┤\n",
      "│ 10 rows                                          4 columns │\n",
      "└────────────────────────────────────────────────────────────┘\n",
      "\n"
     ]
    }
   ],
   "source": [
    "# # of enrollments by country and gender - Using a Partitioned Window Function\n",
    "conn.sql(\n",
    "    \"\"\"SELECT\n",
    "        c.country_name as country,\n",
    "        YEAR(e.enrollment_date) as enrollment_year,\n",
    "        COUNT(e.enrollment_id) as n_patients,\n",
    "        ROUND(COUNT(e.enrollment_id) / SUM(COUNT(e.enrollment_id)) OVER (PARTITION BY c.country_name, YEAR(e.enrollment_date)), 2) AS pct_patients,\n",
    "        FROM TreatmentEnrollments e\n",
    "        JOIN ProgramSites s ON e.site_id = s.site_id\n",
    "        JOIN Countries c ON s.country_id = c.country_id\n",
    "        GROUP BY c.country_name, YEAR(e.enrollment_date)\n",
    "        ORDER BY c.country_name, n_patients DESC\"\"\"\n",
    ").show()"
   ]
  },
  {
   "cell_type": "code",
   "execution_count": null,
   "id": "8180da93",
   "metadata": {},
   "outputs": [
    {
     "name": "stdout",
     "output_type": "stream",
     "text": [
      "┌──────────────┬───────────────────┬────────────┬────────────────┬──────────────┐\n",
      "│   country    │      status       │ n_patients │ cntry_patients │ pct_patients │\n",
      "│   varchar    │      varchar      │   int64    │     int128     │    double    │\n",
      "├──────────────┼───────────────────┼────────────┼────────────────┼──────────────┤\n",
      "│ Kenya        │ Active            │          6 │              6 │        100.0 │\n",
      "│ South Africa │ Active            │          6 │              6 │        100.0 │\n",
      "│ Tanzania     │ Active            │          4 │              4 │        100.0 │\n",
      "│ Uganda       │ Active            │          3 │              5 │         60.0 │\n",
      "│ Uganda       │ Deceased          │          1 │              5 │         20.0 │\n",
      "│ Uganda       │ Lost to Follow-up │          1 │              5 │         20.0 │\n",
      "│ Zambia       │ Active            │          4 │              4 │        100.0 │\n",
      "└──────────────┴───────────────────┴────────────┴────────────────┴──────────────┘\n",
      "\n"
     ]
    }
   ],
   "source": [
    "# SIMPLE CTE -  Enrollment Proportions by Country and Treatment Status\n",
    "\n",
    "conn.sql(\n",
    "    \"\"\"\n",
    "    WITH EnrollmentStatus AS (\n",
    "        SELECT c.country_name as country,\n",
    "        e.treatment_status as status,\n",
    "        COUNT(e.enrollment_id) as n_patients,\n",
    "        SUM(COUNT(e.enrollment_id)) OVER (PARTITION BY c.country_name) AS cntry_patients\n",
    "        FROM TreatmentEnrollments e\n",
    "        JOIN ProgramSites s ON e.site_id = s.site_id\n",
    "        JOIN Countries c ON s.country_id = c.country_id\n",
    "        GROUP BY c.country_name, e.treatment_status\n",
    "    )\n",
    "    SELECT\n",
    "        country, status, n_patients, cntry_patients,\n",
    "        ROUND(n_patients / cntry_patients * 100, 2) AS pct_patients,\n",
    "    FROM EnrollmentStatus\n",
    "    ORDER BY country, status, pct_patients DESC\n",
    "    \"\"\"\n",
    ").show()"
   ]
  },
  {
   "cell_type": "code",
   "execution_count": 212,
   "id": "edb072e8",
   "metadata": {},
   "outputs": [
    {
     "data": {
      "text/plain": [
       "┌──────────────┬───────────────────┬─────────────┬───────────────────┬───────────────┐\n",
       "│   country    │      status       │ enrollments │ total_enrollments │ prop_patients │\n",
       "│   varchar    │      varchar      │    int64    │       int64       │     float     │\n",
       "├──────────────┼───────────────────┼─────────────┼───────────────────┼───────────────┤\n",
       "│ Kenya        │ Active            │           6 │                 6 │         100.0 │\n",
       "│ South Africa │ Active            │           6 │                 6 │         100.0 │\n",
       "│ Tanzania     │ Active            │           4 │                 4 │         100.0 │\n",
       "│ Uganda       │ Active            │           3 │                 5 │          60.0 │\n",
       "│ Uganda       │ Deceased          │           1 │                 5 │          20.0 │\n",
       "│ Uganda       │ Lost to Follow-up │           1 │                 5 │          20.0 │\n",
       "│ Zambia       │ Active            │           4 │                 4 │         100.0 │\n",
       "└──────────────┴───────────────────┴─────────────┴───────────────────┴───────────────┘"
      ]
     },
     "execution_count": 212,
     "metadata": {},
     "output_type": "execute_result"
    }
   ],
   "source": [
    "# CTEs - Percentage of Patients by country and by treatment status\n",
    "\n",
    "conn.sql(\n",
    "    \"\"\"\n",
    "    WITH\n",
    "        -- CTE 1: Count enrollments per country and treatment status\n",
    "        EnrollmentsByCountryAndStatus AS (\n",
    "        SELECT\n",
    "            c.country_name,\n",
    "            te.treatment_status,\n",
    "            COUNT(te.enrollment_id) AS n_enrollments\n",
    "        FROM\n",
    "            TreatmentEnrollments te\n",
    "        JOIN\n",
    "            ProgramSites ps ON te.site_id = ps.site_id\n",
    "        JOIN\n",
    "            Countries c ON ps.country_id = c.country_id\n",
    "        GROUP BY\n",
    "            c.country_name,\n",
    "            te.treatment_status\n",
    "    ),\n",
    "    -- CTE 2: Count total enrollments per country\n",
    "    TotalEnrollmentsByCountry AS (\n",
    "        SELECT\n",
    "            c.country_name,\n",
    "            COUNT(te.enrollment_id) AS total_enrollments\n",
    "        FROM\n",
    "            TreatmentEnrollments te\n",
    "        JOIN\n",
    "            ProgramSites ps ON te.site_id = ps.site_id\n",
    "        JOIN\n",
    "            Countries c ON ps.country_id = c.country_id\n",
    "        GROUP BY\n",
    "            c.country_name\n",
    "    )\n",
    "    -- Main query: Calculate percentage\n",
    "    SELECT\n",
    "        ecas.country_name as country,\n",
    "        ecas.treatment_status as status,\n",
    "        ecas.n_enrollments as enrollments,\n",
    "        tebc.total_enrollments,\n",
    "        (CAST(ecas.n_enrollments AS REAL) * 100.0 / tebc.total_enrollments) AS prop_patients\n",
    "    FROM\n",
    "        EnrollmentsByCountryAndStatus ecas\n",
    "    JOIN\n",
    "        TotalEnrollmentsByCountry tebc ON ecas.country_name = tebc.country_name\n",
    "    ORDER BY\n",
    "        ecas.country_name,\n",
    "        ecas.treatment_status\n",
    "    \"\"\"\n",
    ")"
   ]
  },
  {
   "cell_type": "code",
   "execution_count": 213,
   "id": "556c7607",
   "metadata": {},
   "outputs": [
    {
     "data": {
      "text/plain": [
       "┌──────────────┬───────────────────┬─────────────┬───────────────────┬───────────────┐\n",
       "│   country    │      status       │ enrollments │ total_enrollments │ prop_patients │\n",
       "│   varchar    │      varchar      │    int64    │      int128       │     float     │\n",
       "├──────────────┼───────────────────┼─────────────┼───────────────────┼───────────────┤\n",
       "│ Kenya        │ Active            │           6 │                 6 │         100.0 │\n",
       "│ South Africa │ Active            │           6 │                 6 │         100.0 │\n",
       "│ Tanzania     │ Active            │           4 │                 4 │         100.0 │\n",
       "│ Uganda       │ Active            │           3 │                 5 │          60.0 │\n",
       "│ Uganda       │ Deceased          │           1 │                 5 │          20.0 │\n",
       "│ Uganda       │ Lost to Follow-up │           1 │                 5 │          20.0 │\n",
       "│ Zambia       │ Active            │           4 │                 4 │         100.0 │\n",
       "└──────────────┴───────────────────┴─────────────┴───────────────────┴───────────────┘"
      ]
     },
     "execution_count": 213,
     "metadata": {},
     "output_type": "execute_result"
    }
   ],
   "source": [
    "# CTE: Calculate TX Enrollments per country and status, and\n",
    "# total enrollments per country using a window function\n",
    "conn.sql(\n",
    "    \"\"\"\n",
    "    WITH\n",
    "    EnrollmentsData AS (\n",
    "        SELECT\n",
    "            c.country_name as country,\n",
    "            te.treatment_status as status,\n",
    "            -- # of enrollments per group\n",
    "            COUNT(te.enrollment_id) AS enrollments,\n",
    "            -- Window function to calculate roll up total enrollments\n",
    "            SUM(COUNT(te.enrollment_id)) OVER (PARTITION BY c.country_name) AS total_enrollments\n",
    "        FROM\n",
    "            TreatmentEnrollments te\n",
    "        JOIN\n",
    "            ProgramSites ps ON te.site_id = ps.site_id\n",
    "        JOIN\n",
    "            Countries c ON ps.country_id = c.country_id\n",
    "        GROUP BY\n",
    "            c.country_name,\n",
    "            te.treatment_status\n",
    "    )\n",
    "    -- Main query: Calculate percentage using the results from the single CTE\n",
    "    SELECT\n",
    "        country, status, enrollments, total_enrollments,\n",
    "        (CAST(enrollments AS REAL) * 100.0 / total_enrollments) AS prop_patients\n",
    "    FROM EnrollmentsData\n",
    "    ORDER BY country, status\n",
    "    \"\"\"\n",
    ")"
   ]
  },
  {
   "cell_type": "code",
   "execution_count": 214,
   "id": "1da5cf96",
   "metadata": {},
   "outputs": [
    {
     "name": "stdout",
     "output_type": "stream",
     "text": [
      "┌──────────────┬───────────────────┬───────────────┬─────────────────────┐\n",
      "│   country    │      status       │ n_enrollments │ rank_within_country │\n",
      "│   varchar    │      varchar      │     int64     │        int64        │\n",
      "├──────────────┼───────────────────┼───────────────┼─────────────────────┤\n",
      "│ Kenya        │ Active            │             6 │                   1 │\n",
      "│ South Africa │ Active            │             6 │                   1 │\n",
      "│ Tanzania     │ Active            │             4 │                   1 │\n",
      "│ Uganda       │ Active            │             3 │                   1 │\n",
      "│ Uganda       │ Lost to Follow-up │             1 │                   2 │\n",
      "│ Uganda       │ Deceased          │             1 │                   2 │\n",
      "│ Zambia       │ Active            │             4 │                   1 │\n",
      "└──────────────┴───────────────────┴───────────────┴─────────────────────┘\n",
      "\n"
     ]
    }
   ],
   "source": [
    "# WINDOW FUNCTION - CTE & RANKING ENROLLMENTS BY COUNTRY AND TREATMENT STATUS\n",
    "\n",
    "conn.sql(\n",
    "    \"\"\"\n",
    "    WITH EnrollmentCounts AS (\n",
    "        SELECT\n",
    "            c.country_name AS country,\n",
    "            te.treatment_status AS status,\n",
    "            COUNT(te.enrollment_id) AS n_enrollments\n",
    "        FROM TreatmentEnrollments te\n",
    "        JOIN ProgramSites ps ON te.site_id = ps.site_id\n",
    "        JOIN Countries c ON ps.country_id = c.country_id\n",
    "        GROUP BY c.country_name, te.treatment_status\n",
    "    )\n",
    "    SELECT\n",
    "        country, status, n_enrollments,\n",
    "        RANK() OVER (PARTITION BY country ORDER BY n_enrollments DESC) AS rank_within_country\n",
    "    FROM EnrollmentCounts\n",
    "    ORDER BY country, rank_within_country;\n",
    "    \"\"\"\n",
    ").show()"
   ]
  },
  {
   "cell_type": "code",
   "execution_count": 215,
   "id": "b69b86a5",
   "metadata": {},
   "outputs": [],
   "source": [
    "conn.close()"
   ]
  }
 ],
 "metadata": {
  "kernelspec": {
   "display_name": ".venv",
   "language": "python",
   "name": "python3"
  },
  "language_info": {
   "codemirror_mode": {
    "name": "ipython",
    "version": 3
   },
   "file_extension": ".py",
   "mimetype": "text/x-python",
   "name": "python",
   "nbconvert_exporter": "python",
   "pygments_lexer": "ipython3",
   "version": "3.11.11"
  }
 },
 "nbformat": 4,
 "nbformat_minor": 5
}
