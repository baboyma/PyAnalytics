{
 "cells": [
  {
   "cell_type": "markdown",
   "id": "9ee92457",
   "metadata": {},
   "source": [
    "# ARKIV - The ARKIV API HUB is a RESTful API that provides access to various ARKIV services.\n"
   ]
  },
  {
   "cell_type": "code",
   "execution_count": 46,
   "id": "aa3ad21c",
   "metadata": {},
   "outputs": [],
   "source": [
    "import requests\n",
    "import json\n",
    "import os\n",
    "import pandas as pd\n",
    "from dotenv import load_dotenv"
   ]
  },
  {
   "cell_type": "code",
   "execution_count": 7,
   "id": "8b155524",
   "metadata": {},
   "outputs": [],
   "source": [
    "load_dotenv()\n",
    "\n",
    "HOSTNAME = os.getenv('ARKIV_HOST', '127.0.0.1')\n",
    "\n",
    "ACCESS_TOKEN = os.getenv('ARKIV_ACCESS_TOKEN', '')"
   ]
  },
  {
   "cell_type": "code",
   "execution_count": 8,
   "id": "0d9b5877",
   "metadata": {},
   "outputs": [
    {
     "name": "stdout",
     "output_type": "stream",
     "text": [
      "False\n"
     ]
    }
   ],
   "source": [
    "print(HOSTNAME == '127.0.0.1' and ACCESS_TOKEN == '')"
   ]
  },
  {
   "cell_type": "code",
   "execution_count": 9,
   "id": "9e577190",
   "metadata": {},
   "outputs": [],
   "source": [
    "headers = {\n",
    "    'Content-Type': 'application/json',\n",
    "    'Authorization': f'Bearer {ACCESS_TOKEN}',\n",
    "    'Accept': 'application/json'\n",
    "}"
   ]
  },
  {
   "cell_type": "code",
   "execution_count": 49,
   "id": "acd623ac",
   "metadata": {},
   "outputs": [],
   "source": [
    "base_url = f'http://{HOSTNAME}/app/hub_api'\n",
    "\n",
    "dataset_name = 'test-customers'\n",
    "\n",
    "api_url_dataset = f'{base_url}/{dataset_name}'\n",
    "api_url_data = f'{base_url}/datasets/{dataset_name}/data'"
   ]
  },
  {
   "cell_type": "code",
   "execution_count": null,
   "id": "e9f9d4af",
   "metadata": {},
   "outputs": [
    {
     "name": "stdout",
     "output_type": "stream",
     "text": [
      "http://52.225.55.153/app/hub_api/test-customers\n",
      "http://52.225.55.153/app/hub_api/datasets/test-customers/data\n"
     ]
    }
   ],
   "source": [
    "#print(api_url_dataset)\n",
    "#print(api_url_data)"
   ]
  },
  {
   "cell_type": "code",
   "execution_count": 61,
   "id": "597444a5",
   "metadata": {},
   "outputs": [],
   "source": [
    "# Payload for the POST request\n",
    "payload = {\n",
    "    \"page\": 1,\n",
    "        \"page_size\": 5\n",
    "}"
   ]
  },
  {
   "cell_type": "code",
   "execution_count": 62,
   "id": "9a780a80",
   "metadata": {},
   "outputs": [],
   "source": [
    "req = requests.get(api_url_dataset)"
   ]
  },
  {
   "cell_type": "code",
   "execution_count": 63,
   "id": "834747ad",
   "metadata": {},
   "outputs": [],
   "source": [
    "req.raise_for_status()  # Raise an error for bad responses"
   ]
  },
  {
   "cell_type": "code",
   "execution_count": 64,
   "id": "ea750189",
   "metadata": {},
   "outputs": [
    {
     "name": "stdout",
     "output_type": "stream",
     "text": [
      "200\n",
      "{'category': 'Other', 'category_id': 10, 'columns': [{'created_at': 'Wed, 18 Jun 2025 19:42:57 GMT', 'data_type': 'string', 'dataset_file_id': 16, 'description': None, 'id': 94, 'name': 'CustomerID', 'updated_at': 'Wed, 18 Jun 2025 19:42:57 GMT'}, {'created_at': 'Wed, 18 Jun 2025 19:42:57 GMT', 'data_type': 'string', 'dataset_file_id': 16, 'description': None, 'id': 95, 'name': 'FirstName', 'updated_at': 'Wed, 18 Jun 2025 19:42:57 GMT'}, {'created_at': 'Wed, 18 Jun 2025 19:42:57 GMT', 'data_type': 'string', 'dataset_file_id': 16, 'description': None, 'id': 96, 'name': 'LastName', 'updated_at': 'Wed, 18 Jun 2025 19:42:57 GMT'}, {'created_at': 'Wed, 18 Jun 2025 19:42:57 GMT', 'data_type': 'string', 'dataset_file_id': 16, 'description': None, 'id': 97, 'name': 'EmailAddress', 'updated_at': 'Wed, 18 Jun 2025 19:42:57 GMT'}], 'created_at': 'Wed, 18 Jun 2025 19:42:57 GMT', 'description': 'Test datasets', 'id': 16, 'is_public': True, 'license': 'MIT', 'name': 'Test-Customers', 'preview': [{'CustomerID': 1, 'EmailAddress': 'orlando0@adventure-works.com', 'FirstName': 'Orlando', 'LastName': 'Gee'}, {'CustomerID': 2, 'EmailAddress': 'keith0@adventure-works.com', 'FirstName': 'Keith', 'LastName': 'Harris'}, {'CustomerID': 3, 'EmailAddress': 'donna0@adventure-works.com', 'FirstName': 'Donna', 'LastName': 'Carreras'}, {'CustomerID': 4, 'EmailAddress': 'janet1@adventure-works.com', 'FirstName': 'Janet', 'LastName': 'Gates'}, {'CustomerID': 5, 'EmailAddress': 'lucy0@adventure-works.com', 'FirstName': 'Lucy', 'LastName': 'Harrington'}, {'CustomerID': 6, 'EmailAddress': 'rosmarie0@adventure-works.com', 'FirstName': 'Rosmarie', 'LastName': 'Carroll'}, {'CustomerID': 7, 'EmailAddress': 'dominic0@adventure-works.com', 'FirstName': 'Dominic', 'LastName': 'Gash'}, {'CustomerID': 10, 'EmailAddress': 'kathleen0@adventure-works.com', 'FirstName': 'Kathleen', 'LastName': 'Garza'}, {'CustomerID': 11, 'EmailAddress': 'katherine0@adventure-works.com', 'FirstName': 'Katherine', 'LastName': 'Harding'}, {'CustomerID': 12, 'EmailAddress': 'johnny0@adventure-works.com', 'FirstName': 'Johnny', 'LastName': 'Caprio'}], 'slug': 'test-customers', 'source': None, 'tags': ['Testing'], 'uid': '34a6236b-762b-45e5-8d0a-60bcdd8089fd', 'updated_at': 'Wed, 18 Jun 2025 19:42:57 GMT', 'user': {'email': 'baboyma@gmail.com', 'firstName': 'Baboyma', 'id': 2, 'lastName': 'Kagniniwa', 'oauth_id': None, 'oauth_provider': None, 'username': 'baboyma@gmail.com'}, 'user_id': 2, 'version': '2025', 'version_id': 16, 'versions': [{'created_at': 'Wed, 18 Jun 2025 19:42:57 GMT', 'id': 16, 'rows': 0, 'version_code': '2025'}]}\n",
      "                      created_at data_type  dataset_file_id description  id  \\\n",
      "0  Wed, 18 Jun 2025 19:42:57 GMT    string               16        None  94   \n",
      "1  Wed, 18 Jun 2025 19:42:57 GMT    string               16        None  95   \n",
      "2  Wed, 18 Jun 2025 19:42:57 GMT    string               16        None  96   \n",
      "3  Wed, 18 Jun 2025 19:42:57 GMT    string               16        None  97   \n",
      "\n",
      "           name                     updated_at  \n",
      "0    CustomerID  Wed, 18 Jun 2025 19:42:57 GMT  \n",
      "1     FirstName  Wed, 18 Jun 2025 19:42:57 GMT  \n",
      "2      LastName  Wed, 18 Jun 2025 19:42:57 GMT  \n",
      "3  EmailAddress  Wed, 18 Jun 2025 19:42:57 GMT  \n"
     ]
    }
   ],
   "source": [
    "print(req.status_code)\n",
    "print(req.json())\n",
    "print(pd.DataFrame(req.json()['columns']))"
   ]
  },
  {
   "cell_type": "code",
   "execution_count": 65,
   "id": "c67b6329",
   "metadata": {},
   "outputs": [],
   "source": [
    "res = requests.get(api_url_data)"
   ]
  },
  {
   "cell_type": "code",
   "execution_count": 66,
   "id": "7267e9a4",
   "metadata": {},
   "outputs": [
    {
     "name": "stdout",
     "output_type": "stream",
     "text": [
      "404\n"
     ]
    },
    {
     "ename": "HTTPError",
     "evalue": "404 Client Error: NOT FOUND for url: http://52.225.55.153/app/hub_api/datasets/test-customers/data",
     "output_type": "error",
     "traceback": [
      "\u001b[0;31m---------------------------------------------------------------------------\u001b[0m",
      "\u001b[0;31mHTTPError\u001b[0m                                 Traceback (most recent call last)",
      "Cell \u001b[0;32mIn[66], line 2\u001b[0m\n\u001b[1;32m      1\u001b[0m \u001b[38;5;28mprint\u001b[39m(res\u001b[38;5;241m.\u001b[39mstatus_code)\n\u001b[0;32m----> 2\u001b[0m \u001b[38;5;28mprint\u001b[39m(\u001b[43mres\u001b[49m\u001b[38;5;241;43m.\u001b[39;49m\u001b[43mraise_for_status\u001b[49m\u001b[43m(\u001b[49m\u001b[43m)\u001b[49m)  \u001b[38;5;66;03m# Raise an error for bad responses\u001b[39;00m\n\u001b[1;32m      3\u001b[0m \u001b[38;5;28mprint\u001b[39m(res\u001b[38;5;241m.\u001b[39mjson())\n",
      "File \u001b[0;32m~/Documents/Projects/Python/PyAnalytics/.venv/lib/python3.11/site-packages/requests/models.py:1024\u001b[0m, in \u001b[0;36mResponse.raise_for_status\u001b[0;34m(self)\u001b[0m\n\u001b[1;32m   1019\u001b[0m     http_error_msg \u001b[38;5;241m=\u001b[39m (\n\u001b[1;32m   1020\u001b[0m         \u001b[38;5;124mf\u001b[39m\u001b[38;5;124m\"\u001b[39m\u001b[38;5;132;01m{\u001b[39;00m\u001b[38;5;28mself\u001b[39m\u001b[38;5;241m.\u001b[39mstatus_code\u001b[38;5;132;01m}\u001b[39;00m\u001b[38;5;124m Server Error: \u001b[39m\u001b[38;5;132;01m{\u001b[39;00mreason\u001b[38;5;132;01m}\u001b[39;00m\u001b[38;5;124m for url: \u001b[39m\u001b[38;5;132;01m{\u001b[39;00m\u001b[38;5;28mself\u001b[39m\u001b[38;5;241m.\u001b[39murl\u001b[38;5;132;01m}\u001b[39;00m\u001b[38;5;124m\"\u001b[39m\n\u001b[1;32m   1021\u001b[0m     )\n\u001b[1;32m   1023\u001b[0m \u001b[38;5;28;01mif\u001b[39;00m http_error_msg:\n\u001b[0;32m-> 1024\u001b[0m     \u001b[38;5;28;01mraise\u001b[39;00m HTTPError(http_error_msg, response\u001b[38;5;241m=\u001b[39m\u001b[38;5;28mself\u001b[39m)\n",
      "\u001b[0;31mHTTPError\u001b[0m: 404 Client Error: NOT FOUND for url: http://52.225.55.153/app/hub_api/datasets/test-customers/data"
     ]
    }
   ],
   "source": [
    "print(res.status_code)\n",
    "print(res.raise_for_status())  # Raise an error for bad responses\n",
    "print(res.json())"
   ]
  },
  {
   "cell_type": "code",
   "execution_count": 33,
   "id": "1cbcd4ee",
   "metadata": {},
   "outputs": [],
   "source": [
    "req = requests.post(api_url, headers=headers, json=payload)"
   ]
  },
  {
   "cell_type": "code",
   "execution_count": 34,
   "id": "0c9992f6",
   "metadata": {},
   "outputs": [
    {
     "name": "stdout",
     "output_type": "stream",
     "text": [
      "405\n"
     ]
    }
   ],
   "source": [
    "print(req.status_code)"
   ]
  }
 ],
 "metadata": {
  "kernelspec": {
   "display_name": ".venv",
   "language": "python",
   "name": "python3"
  },
  "language_info": {
   "codemirror_mode": {
    "name": "ipython",
    "version": 3
   },
   "file_extension": ".py",
   "mimetype": "text/x-python",
   "name": "python",
   "nbconvert_exporter": "python",
   "pygments_lexer": "ipython3",
   "version": "3.11.11"
  }
 },
 "nbformat": 4,
 "nbformat_minor": 5
}
